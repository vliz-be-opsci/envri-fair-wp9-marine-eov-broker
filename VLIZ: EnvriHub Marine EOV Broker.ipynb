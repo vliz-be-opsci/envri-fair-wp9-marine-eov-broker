{
 "cells": [
  {
   "cell_type": "markdown",
   "id": "f8875214-ac93-4558-9f1c-e54b30e5c905",
   "metadata": {},
   "source": [
    "# Marine EOV Broker\n",
    "\n"
   ]
  },
  {
   "cell_type": "code",
   "execution_count": 1,
   "id": "7ca506d2",
   "metadata": {},
   "outputs": [],
   "source": [
    "# ! pip install --upgrade --force-reinstall git+https://github.com/vliz-be-opsci/marine-eov-broker"
   ]
  },
  {
   "cell_type": "code",
   "execution_count": 2,
   "id": "4d4d7ebf-0a36-4dd4-8906-425148370c3f",
   "metadata": {},
   "outputs": [
    {
     "name": "stdout",
     "output_type": "stream",
     "text": [
      "['csv', 'geoJson', 'json', 'nc', 'ncCF', 'odvTxt']\n",
      "['EV_OXY', 'EV_SEATEMP', 'EV_SALIN', 'EV_CURR', 'EV_CHLA', 'EV_CO2', 'EV_NUTS']\n"
     ]
    }
   ],
   "source": [
    "from marine_eov_broker import MarineRiBroker\n",
    "import logging\n",
    "import matplotlib.pyplot as plt\n",
    "\n",
    "logger = logging.getLogger()\n",
    "logger.setLevel(logging.INFO)\n",
    "# logger.setLevel(logging.DEBUG)\n",
    "\n",
    "print(MarineRiBroker.ERDDAP_OUTPUT_FORMATS)\n",
    "print(MarineRiBroker.EOV_LIST)"
   ]
  },
  {
   "cell_type": "markdown",
   "id": "4c8143af-847d-410a-aef3-c288de9feba6",
   "metadata": {},
   "source": [
    "## Start the broker\n",
    "\n",
    "It will take some time (though it still needs improvements on performances). This is because the broker will :\n",
    "* load vocabularies upon startup\n",
    "* load erddap datasets metadata from all erddap servers\n",
    "\n",
    "\n",
    "**Question :**\n",
    "Do we want to work with all datasets on Erddap servers ? Or do we want to build a fixed list for them ?"
   ]
  },
  {
   "cell_type": "code",
   "execution_count": 3,
   "id": "652d9ba7-0766-4e51-bdc8-b73b971baaf2",
   "metadata": {
    "tags": []
   },
   "outputs": [
    {
     "name": "stderr",
     "output_type": "stream",
     "text": [
      "INFO:root:Querying vocabulary server for EOV : EV_OXY\n",
      "INFO:root:Querying vocabulary server for EOV : EV_SEATEMP\n",
      "INFO:root:Querying vocabulary server for EOV : EV_SALIN\n",
      "INFO:root:Response: {'head': {'vars': ['dt', 'P01notation', 'prefLabel', 'R03', 'P09', 'P02']}, 'results': {'bindings': [{'dt': {'type': 'uri', 'value': 'http://vocab.nerc.ac.uk/collection/P01/current/DOXMZZXX/'}, 'P01notation': {'type': 'literal', 'value': 'SDN:P01::DOXMZZXX'}, 'prefLabel': {'type': 'literal', 'xml:lang': 'en', 'value': 'Concentration of oxygen {O2 CAS 7782-44-7} per unit mass of the water body [dissolved plus reactive particulate phase]'}, 'R03': {'type': 'literal', 'value': 'SDN:R03::DOXY'}, 'P09': {'type': 'literal', 'value': 'SDN:P09::DOX2'}, 'P02': {'type': 'literal', 'value': 'SDN:P02::DOXY'}}, {'dt': {'type': 'uri', 'value': 'http://vocab.nerc.ac.uk/collection/P01/current/DOXYAAOP/'}, 'P01notation': {'type': 'literal', 'value': 'SDN:P01::DOXYAAOP'}, 'prefLabel': {'type': 'literal', 'xml:lang': 'en', 'value': 'Concentration of oxygen {O2 CAS 7782-44-7} per unit volume of the water body [dissolved plus reactive particulate phase] by optode'}, 'P02': {'type': 'literal', 'value': 'SDN:P02::DOXY'}}, {'dt': {'type': 'uri', 'value': 'http://vocab.nerc.ac.uk/collection/P01/current/OXYSMOD1/'}, 'P01notation': {'type': 'literal', 'value': 'SDN:P01::OXYSMOD1'}, 'prefLabel': {'type': 'literal', 'xml:lang': 'en', 'value': 'Concentration of oxygen {O2 CAS 7782-44-7} per unit volume of the water body [dissolved plus reactive particulate phase] by model prediction'}, 'P02': {'type': 'literal', 'value': 'SDN:P02::DOXY'}}, {'dt': {'type': 'uri', 'value': 'http://vocab.nerc.ac.uk/collection/P01/current/DOXYSU02/'}, 'P01notation': {'type': 'literal', 'value': 'SDN:P01::DOXYSU02'}, 'prefLabel': {'type': 'literal', 'xml:lang': 'en', 'value': 'Concentration of oxygen {O2 CAS 7782-44-7} per unit volume of the water body [dissolved plus reactive particulate phase] by Sea-Bird SBE 43 sensor (second sensor) and no calibration against sample data'}, 'P02': {'type': 'literal', 'value': 'SDN:P02::DOXY'}}, {'dt': {'type': 'uri', 'value': 'http://vocab.nerc.ac.uk/collection/P01/current/DOXYZZXX/'}, 'P01notation': {'type': 'literal', 'value': 'SDN:P01::DOXYZZXX'}, 'prefLabel': {'type': 'literal', 'xml:lang': 'en', 'value': 'Concentration of oxygen {O2 CAS 7782-44-7} per unit volume of the water body [dissolved plus reactive particulate phase]'}, 'R03': {'type': 'literal', 'value': 'SDN:R03::MLPL_DOXY'}, 'P09': {'type': 'literal', 'value': 'SDN:P09::DOXY'}, 'P02': {'type': 'literal', 'value': 'SDN:P02::DOXY'}}, {'dt': {'type': 'uri', 'value': 'http://vocab.nerc.ac.uk/collection/P01/current/DOXYZZXX/'}, 'P01notation': {'type': 'literal', 'value': 'SDN:P01::DOXYZZXX'}, 'prefLabel': {'type': 'literal', 'xml:lang': 'en', 'value': 'Concentration of oxygen {O2 CAS 7782-44-7} per unit volume of the water body [dissolved plus reactive particulate phase]'}, 'R03': {'type': 'literal', 'value': 'SDN:R03::MLPL_DOXY'}, 'P09': {'type': 'literal', 'value': 'SDN:P09::DOX1'}, 'P02': {'type': 'literal', 'value': 'SDN:P02::DOXY'}}, {'dt': {'type': 'uri', 'value': 'http://vocab.nerc.ac.uk/collection/P01/current/DOXYSC01/'}, 'P01notation': {'type': 'literal', 'value': 'SDN:P01::DOXYSC01'}, 'prefLabel': {'type': 'literal', 'xml:lang': 'en', 'value': 'Concentration of oxygen {O2 CAS 7782-44-7} per unit volume of the water body [dissolved plus reactive particulate phase] by Sea-Bird SBE 43 sensor and calibration against sample data'}, 'P02': {'type': 'literal', 'value': 'SDN:P02::DOXY'}}, {'dt': {'type': 'uri', 'value': 'http://vocab.nerc.ac.uk/collection/P01/current/DOXYPR01/'}, 'P01notation': {'type': 'literal', 'value': 'SDN:P01::DOXYPR01'}, 'prefLabel': {'type': 'literal', 'xml:lang': 'en', 'value': 'Concentration of oxygen {O2 CAS 7782-44-7} per unit volume of the water body [dissolved plus reactive particulate phase] by in-situ Beckmann probe'}, 'P02': {'type': 'literal', 'value': 'SDN:P02::DOXY'}}, {'dt': {'type': 'uri', 'value': 'http://vocab.nerc.ac.uk/collection/P01/current/DOXYSC02/'}, 'P01notation': {'type': 'literal', 'value': 'SDN:P01::DOXYSC02'}, 'prefLabel': {'type': 'literal', 'xml:lang': 'en', 'value': 'Concentration of oxygen {O2 CAS 7782-44-7} per unit volume of the water body [dissolved plus reactive particulate phase] by Sea-Bird SBE 43 sensor (second sensor) and calibration against sample data'}, 'P02': {'type': 'literal', 'value': 'SDN:P02::DOXY'}}, {'dt': {'type': 'uri', 'value': 'http://vocab.nerc.ac.uk/collection/P01/current/DOXYSE02/'}, 'P01notation': {'type': 'literal', 'value': 'SDN:P01::DOXYSE02'}, 'prefLabel': {'type': 'literal', 'xml:lang': 'en', 'value': 'Concentration of oxygen {O2 CAS 7782-44-7} per unit volume of the water body [dissolved plus reactive particulate phase] by YSI profiling oxygen and temperature probe'}, 'P02': {'type': 'literal', 'value': 'SDN:P02::DOXY'}}, {'dt': {'type': 'uri', 'value': 'http://vocab.nerc.ac.uk/collection/P01/current/DOXYPR02/'}, 'P01notation': {'type': 'literal', 'value': 'SDN:P01::DOXYPR02'}, 'prefLabel': {'type': 'literal', 'xml:lang': 'en', 'value': 'Concentration of oxygen {O2 CAS 7782-44-7} per unit volume of the water body [dissolved plus reactive particulate phase] by in-situ Beckmann probe (second sensor)'}, 'P02': {'type': 'literal', 'value': 'SDN:P02::DOXY'}}, {'dt': {'type': 'uri', 'value': 'http://vocab.nerc.ac.uk/collection/P01/current/DOXYUZ02/'}, 'P01notation': {'type': 'literal', 'value': 'SDN:P01::DOXYUZ02'}, 'prefLabel': {'type': 'literal', 'xml:lang': 'en', 'value': 'Concentration of oxygen {O2 CAS 7782-44-7} per unit volume of the water body [dissolved plus reactive particulate phase] by in-situ sensor (second sensor) and no calibration against sample data'}, 'P02': {'type': 'literal', 'value': 'SDN:P02::DOXY'}}, {'dt': {'type': 'uri', 'value': 'http://vocab.nerc.ac.uk/collection/P01/current/DOXYCZ01/'}, 'P01notation': {'type': 'literal', 'value': 'SDN:P01::DOXYCZ01'}, 'prefLabel': {'type': 'literal', 'xml:lang': 'en', 'value': 'Concentration of oxygen {O2 CAS 7782-44-7} per unit volume of the water body [dissolved plus reactive particulate phase] by in-situ sensor and calibration against sample data'}, 'P02': {'type': 'literal', 'value': 'SDN:P02::DOXY'}}, {'dt': {'type': 'uri', 'value': 'http://vocab.nerc.ac.uk/collection/P01/current/DOXYPE01/'}, 'P01notation': {'type': 'literal', 'value': 'SDN:P01::DOXYPE01'}, 'prefLabel': {'type': 'literal', 'xml:lang': 'en', 'value': 'Concentration of oxygen {O2 CAS 7782-44-7} per unit volume of the water body [dissolved plus reactive particulate phase] by in-situ pulsed electrode'}, 'P02': {'type': 'literal', 'value': 'SDN:P02::DOXY'}}, {'dt': {'type': 'uri', 'value': 'http://vocab.nerc.ac.uk/collection/P01/current/DOXYZZ01/'}, 'P01notation': {'type': 'literal', 'value': 'SDN:P01::DOXYZZ01'}, 'prefLabel': {'type': 'literal', 'xml:lang': 'en', 'value': 'Concentration of oxygen {O2 CAS 7782-44-7} per unit volume of the water body [dissolved plus reactive particulate phase] by in-situ sensor'}, 'P02': {'type': 'literal', 'value': 'SDN:P02::DOXY'}}, {'dt': {'type': 'uri', 'value': 'http://vocab.nerc.ac.uk/collection/P01/current/DOXYSE01/'}, 'P01notation': {'type': 'literal', 'value': 'SDN:P01::DOXYSE01'}, 'prefLabel': {'type': 'literal', 'xml:lang': 'en', 'value': 'Concentration of oxygen {O2 CAS 7782-44-7} per unit volume of the water body [dissolved plus reactive particulate phase] by YSI in-situ oxygen and temperature probe'}, 'P02': {'type': 'literal', 'value': 'SDN:P02::DOXY'}}, {'dt': {'type': 'uri', 'value': 'http://vocab.nerc.ac.uk/collection/P01/current/DOXYOP01/'}, 'P01notation': {'type': 'literal', 'value': 'SDN:P01::DOXYOP01'}, 'prefLabel': {'type': 'literal', 'xml:lang': 'en', 'value': 'Concentration of oxygen {O2 CAS 7782-44-7} per unit volume of the water body [dissolved plus reactive particulate phase] by in-situ oxygen optode'}, 'P02': {'type': 'literal', 'value': 'SDN:P02::DOXY'}}, {'dt': {'type': 'uri', 'value': 'http://vocab.nerc.ac.uk/collection/P01/current/DOXYWITX/'}, 'P01notation': {'type': 'literal', 'value': 'SDN:P01::DOXYWITX'}, 'prefLabel': {'type': 'literal', 'xml:lang': 'en', 'value': 'Concentration of oxygen {O2 CAS 7782-44-7} per unit volume of the water body [dissolved plus reactive particulate phase] by Winkler titration'}, 'P02': {'type': 'literal', 'value': 'SDN:P02::DOXY'}}, {'dt': {'type': 'uri', 'value': 'http://vocab.nerc.ac.uk/collection/P01/current/DOXYUZ01/'}, 'P01notation': {'type': 'literal', 'value': 'SDN:P01::DOXYUZ01'}, 'prefLabel': {'type': 'literal', 'xml:lang': 'en', 'value': 'Concentration of oxygen {O2 CAS 7782-44-7} per unit volume of the water body [dissolved plus reactive particulate phase] by in-situ sensor and no calibration against sample data'}, 'P02': {'type': 'literal', 'value': 'SDN:P02::DOXY'}}, {'dt': {'type': 'uri', 'value': 'http://vocab.nerc.ac.uk/collection/P01/current/DOXYSU01/'}, 'P01notation': {'type': 'literal', 'value': 'SDN:P01::DOXYSU01'}, 'prefLabel': {'type': 'literal', 'xml:lang': 'en', 'value': 'Concentration of oxygen {O2 CAS 7782-44-7} per unit volume of the water body [dissolved plus reactive particulate phase] by Sea-Bird SBE 43 sensor and no calibration against sample data'}, 'P02': {'type': 'literal', 'value': 'SDN:P02::DOXY'}}, {'dt': {'type': 'uri', 'value': 'http://vocab.nerc.ac.uk/collection/P01/current/DOKGWITX/'}, 'P01notation': {'type': 'literal', 'value': 'SDN:P01::DOKGWITX'}, 'prefLabel': {'type': 'literal', 'xml:lang': 'en', 'value': 'Concentration of oxygen {O2 CAS 7782-44-7} per unit mass of the water body [dissolved plus reactive particulate phase] by Winkler titration'}, 'P02': {'type': 'literal', 'value': 'SDN:P02::DOXY'}}, {'dt': {'type': 'uri', 'value': 'http://vocab.nerc.ac.uk/collection/P01/current/DOXYSCKG/'}, 'P01notation': {'type': 'literal', 'value': 'SDN:P01::DOXYSCKG'}, 'prefLabel': {'type': 'literal', 'xml:lang': 'en', 'value': 'Concentration of oxygen {O2 CAS 7782-44-7} per unit mass of the water body [dissolved plus reactive particulate phase] by Sea-Bird SBE 43 sensor and calibration against sample data'}, 'P02': {'type': 'literal', 'value': 'SDN:P02::DOXY'}}, {'dt': {'type': 'uri', 'value': 'http://vocab.nerc.ac.uk/collection/P01/current/DOXYUCKG/'}, 'P01notation': {'type': 'literal', 'value': 'SDN:P01::DOXYUCKG'}, 'prefLabel': {'type': 'literal', 'xml:lang': 'en', 'value': 'Concentration of oxygen {O2 CAS 7782-44-7} per unit mass of the water body [dissolved plus reactive particulate phase] by Sea-Bird SBE 43 sensor and no calibration against sample data'}, 'P02': {'type': 'literal', 'value': 'SDN:P02::DOXY'}}]}}\n",
      "INFO:root:Response: {'head': {'vars': ['dt', 'P01notation', 'prefLabel', 'R03', 'P09', 'P02']}, 'results': {'bindings': [{'dt': {'type': 'uri', 'value': 'http://vocab.nerc.ac.uk/collection/P01/current/PSALST01/'}, 'P01notation': {'type': 'literal', 'value': 'SDN:P01::PSALST01'}, 'prefLabel': {'type': 'literal', 'xml:lang': 'en', 'value': 'Practical salinity of the water body by CTD and computation using UNESCO 1983 algorithm'}, 'R03': {'type': 'literal', 'value': 'SDN:R03::PSAL'}, 'P02': {'type': 'literal', 'value': 'SDN:P02::PSAL'}}, {'dt': {'type': 'uri', 'value': 'http://vocab.nerc.ac.uk/collection/P01/current/PSALBSTX/'}, 'P01notation': {'type': 'literal', 'value': 'SDN:P01::PSALBSTX'}, 'prefLabel': {'type': 'literal', 'xml:lang': 'en', 'value': 'Practical salinity of the water body by bench salinometer and computation using UNESCO 1983 algorithm'}, 'P02': {'type': 'literal', 'value': 'SDN:P02::PSAL'}}, {'dt': {'type': 'uri', 'value': 'http://vocab.nerc.ac.uk/collection/P01/current/PSALSZ01/'}, 'P01notation': {'type': 'literal', 'value': 'SDN:P01::PSALSZ01'}, 'prefLabel': {'type': 'literal', 'xml:lang': 'en', 'value': 'Practical salinity of the water body by thermosalinograph and computation using UNESCO 1983 algorithm'}, 'P02': {'type': 'literal', 'value': 'SDN:P02::PSAL'}}, {'dt': {'type': 'uri', 'value': 'http://vocab.nerc.ac.uk/collection/P01/current/PSALMV01/'}, 'P01notation': {'type': 'literal', 'value': 'SDN:P01::PSALMV01'}, 'prefLabel': {'type': 'literal', 'xml:lang': 'en', 'value': 'Practical salinity of the water body by moving vessel profiler (MVP) and computation using UNESCO 1983 algorithm'}, 'P02': {'type': 'literal', 'value': 'SDN:P02::PSAL'}}, {'dt': {'type': 'uri', 'value': 'http://vocab.nerc.ac.uk/collection/P01/current/PSALCU02/'}, 'P01notation': {'type': 'literal', 'value': 'SDN:P01::PSALCU02'}, 'prefLabel': {'type': 'literal', 'xml:lang': 'en', 'value': 'Practical salinity of the water body by CTD (second sensor) and computation using UNESCO 1983 algorithm and NO calibration against independent measurements'}, 'P02': {'type': 'literal', 'value': 'SDN:P02::PSAL'}}, {'dt': {'type': 'uri', 'value': 'http://vocab.nerc.ac.uk/collection/P01/current/PSALMC01/'}, 'P01notation': {'type': 'literal', 'value': 'SDN:P01::PSALMC01'}, 'prefLabel': {'type': 'literal', 'xml:lang': 'en', 'value': 'Practical salinity of the water body by moving vessel profiler (MVP) and computation using UNESCO 1983 algorithm and calibration against independent measurements'}, 'P02': {'type': 'literal', 'value': 'SDN:P02::PSAL'}}, {'dt': {'type': 'uri', 'value': 'http://vocab.nerc.ac.uk/collection/P01/current/PSALCU01/'}, 'P01notation': {'type': 'literal', 'value': 'SDN:P01::PSALCU01'}, 'prefLabel': {'type': 'literal', 'xml:lang': 'en', 'value': 'Practical salinity of the water body by CTD and computation using UNESCO 1983 algorithm and NO calibration against independent measurements'}, 'P02': {'type': 'literal', 'value': 'SDN:P02::PSAL'}}, {'dt': {'type': 'uri', 'value': 'http://vocab.nerc.ac.uk/collection/P01/current/PSALZZXX/'}, 'P01notation': {'type': 'literal', 'value': 'SDN:P01::PSALZZXX'}, 'prefLabel': {'type': 'literal', 'xml:lang': 'en', 'value': 'Practical salinity of the water body by computation using UNESCO 1983 algorithm'}, 'P02': {'type': 'literal', 'value': 'SDN:P02::PSAL'}}, {'dt': {'type': 'uri', 'value': 'http://vocab.nerc.ac.uk/collection/P01/current/PSALTC01/'}, 'P01notation': {'type': 'literal', 'value': 'SDN:P01::PSALTC01'}, 'prefLabel': {'type': 'literal', 'xml:lang': 'en', 'value': 'Practical salinity of the water body by in-situ conductivity cell and computation using UNESCO 1983 algorithm'}, 'P02': {'type': 'literal', 'value': 'SDN:P02::PSAL'}}, {'dt': {'type': 'uri', 'value': 'http://vocab.nerc.ac.uk/collection/P01/current/PSALSU01/'}, 'P01notation': {'type': 'literal', 'value': 'SDN:P01::PSALSU01'}, 'prefLabel': {'type': 'literal', 'xml:lang': 'en', 'value': 'Practical salinity of the water body by thermosalinograph and computation using UNESCO 1983 algorithm and NO calibration against independent measurements'}, 'P02': {'type': 'literal', 'value': 'SDN:P02::PSAL'}}, {'dt': {'type': 'uri', 'value': 'http://vocab.nerc.ac.uk/collection/P01/current/PSALTC02/'}, 'P01notation': {'type': 'literal', 'value': 'SDN:P01::PSALTC02'}, 'prefLabel': {'type': 'literal', 'xml:lang': 'en', 'value': 'Practical salinity of the water body by in-situ conductivity cell (second sensor) and computation using UNESCO 1983 algorithm'}, 'P02': {'type': 'literal', 'value': 'SDN:P02::PSAL'}}, {'dt': {'type': 'uri', 'value': 'http://vocab.nerc.ac.uk/collection/P01/current/PSALPR01/'}, 'P01notation': {'type': 'literal', 'value': 'SDN:P01::PSALPR01'}, 'prefLabel': {'type': 'literal', 'xml:lang': 'en', 'value': 'Practical salinity of the water body by conductivity cell and computation using UNESCO 1983 algorithm'}, 'P02': {'type': 'literal', 'value': 'SDN:P02::PSAL'}}, {'dt': {'type': 'uri', 'value': 'http://vocab.nerc.ac.uk/collection/P01/current/PSALTC03/'}, 'P01notation': {'type': 'literal', 'value': 'SDN:P01::PSALTC03'}, 'prefLabel': {'type': 'literal', 'xml:lang': 'en', 'value': 'Practical salinity of the water body by in-situ conductivity cell (third sensor) and computation using UNESCO 1983 algorithm'}, 'P02': {'type': 'literal', 'value': 'SDN:P02::PSAL'}}, {'dt': {'type': 'uri', 'value': 'http://vocab.nerc.ac.uk/collection/P01/current/PSALTC04/'}, 'P01notation': {'type': 'literal', 'value': 'SDN:P01::PSALTC04'}, 'prefLabel': {'type': 'literal', 'xml:lang': 'en', 'value': 'Practical salinity of the water body by in-situ conductivity cell (fourth sensor) and computation using UNESCO 1983 algorithm'}, 'P02': {'type': 'literal', 'value': 'SDN:P02::PSAL'}}, {'dt': {'type': 'uri', 'value': 'http://vocab.nerc.ac.uk/collection/P01/current/PSCLCCI1/'}, 'P01notation': {'type': 'literal', 'value': 'SDN:P01::PSCLCCI1'}, 'prefLabel': {'type': 'literal', 'xml:lang': 'en', 'value': 'Practical salinity of the water body by in-situ conductivity cell and computation using UNESCO 1983 algorithm and calibration against independent measurements'}, 'P02': {'type': 'literal', 'value': 'SDN:P02::PSAL'}}, {'dt': {'type': 'uri', 'value': 'http://vocab.nerc.ac.uk/collection/P01/current/PSALST02/'}, 'P01notation': {'type': 'literal', 'value': 'SDN:P01::PSALST02'}, 'prefLabel': {'type': 'literal', 'xml:lang': 'en', 'value': 'Practical salinity of the water body by CTD (second sensor) and computation using UNESCO 1983 algorithm'}, 'P02': {'type': 'literal', 'value': 'SDN:P02::PSAL'}}, {'dt': {'type': 'uri', 'value': 'http://vocab.nerc.ac.uk/collection/P01/current/PSALBRBR/'}, 'P01notation': {'type': 'literal', 'value': 'SDN:P01::PSALBRBR'}, 'prefLabel': {'type': 'literal', 'xml:lang': 'en', 'value': 'Practical salinity of the water body by RBR MS-310 micro-salinometer and computation using UNESCO 1983 algorithm'}, 'P02': {'type': 'literal', 'value': 'SDN:P02::PSAL'}}, {'dt': {'type': 'uri', 'value': 'http://vocab.nerc.ac.uk/collection/P01/current/PSALSG02/'}, 'P01notation': {'type': 'literal', 'value': 'SDN:P01::PSALSG02'}, 'prefLabel': {'type': 'literal', 'xml:lang': 'en', 'value': 'Practical salinity of the water body by thermosalinograph (second sensor) and computation using UNESCO 1983 algorithm and calibration against independent measurements'}, 'P02': {'type': 'literal', 'value': 'SDN:P02::PSAL'}}, {'dt': {'type': 'uri', 'value': 'http://vocab.nerc.ac.uk/collection/P01/current/PSALTC05/'}, 'P01notation': {'type': 'literal', 'value': 'SDN:P01::PSALTC05'}, 'prefLabel': {'type': 'literal', 'xml:lang': 'en', 'value': 'Practical salinity of the water body by in-situ conductivity cell (fifth sensor) and computation using UNESCO 1983 algorithm'}, 'P02': {'type': 'literal', 'value': 'SDN:P02::PSAL'}}, {'dt': {'type': 'uri', 'value': 'http://vocab.nerc.ac.uk/collection/P01/current/PSALPR02/'}, 'P01notation': {'type': 'literal', 'value': 'SDN:P01::PSALPR02'}, 'prefLabel': {'type': 'literal', 'xml:lang': 'en', 'value': 'Practical salinity of the water body by conductivity cell (second sensor) and computation using UNESCO 1983 algorithm'}, 'P09': {'type': 'literal', 'value': 'SDN:P09::PS02'}, 'P02': {'type': 'literal', 'value': 'SDN:P02::PSAL'}}, {'dt': {'type': 'uri', 'value': 'http://vocab.nerc.ac.uk/collection/P01/current/PSALTC06/'}, 'P01notation': {'type': 'literal', 'value': 'SDN:P01::PSALTC06'}, 'prefLabel': {'type': 'literal', 'xml:lang': 'en', 'value': 'Practical salinity of the water body by in-situ conductivity cell (sixth sensor) and computation using UNESCO 1983 algorithm'}, 'P02': {'type': 'literal', 'value': 'SDN:P02::PSAL'}}, {'dt': {'type': 'uri', 'value': 'http://vocab.nerc.ac.uk/collection/P01/current/PSALSG01/'}, 'P01notation': {'type': 'literal', 'value': 'SDN:P01::PSALSG01'}, 'prefLabel': {'type': 'literal', 'xml:lang': 'en', 'value': 'Practical salinity of the water body by thermosalinograph and computation using UNESCO 1983 algorithm and calibration against independent measurements'}, 'P02': {'type': 'literal', 'value': 'SDN:P02::PSAL'}}, {'dt': {'type': 'uri', 'value': 'http://vocab.nerc.ac.uk/collection/P01/current/PSALCC02/'}, 'P01notation': {'type': 'literal', 'value': 'SDN:P01::PSALCC02'}, 'prefLabel': {'type': 'literal', 'xml:lang': 'en', 'value': 'Practical salinity of the water body by CTD (second sensor) and computation using UNESCO 1983 algorithm and calibration against independent measurements'}, 'P02': {'type': 'literal', 'value': 'SDN:P02::PSAL'}}, {'dt': {'type': 'uri', 'value': 'http://vocab.nerc.ac.uk/collection/P01/current/PSLTZZ01/'}, 'P01notation': {'type': 'literal', 'value': 'SDN:P01::PSLTZZ01'}, 'prefLabel': {'type': 'literal', 'xml:lang': 'en', 'value': 'Practical salinity of the water body'}, 'P09': {'type': 'literal', 'value': 'SDN:P09::PSAL'}, 'P02': {'type': 'literal', 'value': 'SDN:P02::PSAL'}}, {'dt': {'type': 'uri', 'value': 'http://vocab.nerc.ac.uk/collection/P01/current/PSLTMP01/'}, 'P01notation': {'type': 'literal', 'value': 'SDN:P01::PSLTMP01'}, 'prefLabel': {'type': 'literal', 'xml:lang': 'en', 'value': 'Practical salinity of the water body by model prediction'}, 'P02': {'type': 'literal', 'value': 'SDN:P02::PSAL'}}, {'dt': {'type': 'uri', 'value': 'http://vocab.nerc.ac.uk/collection/P01/current/PSALCC01/'}, 'P01notation': {'type': 'literal', 'value': 'SDN:P01::PSALCC01'}, 'prefLabel': {'type': 'literal', 'xml:lang': 'en', 'value': 'Practical salinity of the water body by CTD and computation using UNESCO 1983 algorithm and calibration against independent measurements'}, 'P02': {'type': 'literal', 'value': 'SDN:P02::PSAL'}}, {'dt': {'type': 'uri', 'value': 'http://vocab.nerc.ac.uk/collection/P01/current/SSALAGT1/'}, 'P01notation': {'type': 'literal', 'value': 'SDN:P01::SSALAGT1'}, 'prefLabel': {'type': 'literal', 'xml:lang': 'en', 'value': 'Salinity of the water body by titration against silver nitrate (AgNO3)'}, 'P02': {'type': 'literal', 'value': 'SDN:P02::PSAL'}}, {'dt': {'type': 'uri', 'value': 'http://vocab.nerc.ac.uk/collection/P01/current/SSALST01/'}, 'P01notation': {'type': 'literal', 'value': 'SDN:P01::SSALST01'}, 'prefLabel': {'type': 'literal', 'xml:lang': 'en', 'value': 'Salinity of the water body by CTD'}, 'P02': {'type': 'literal', 'value': 'SDN:P02::PSAL'}}, {'dt': {'type': 'uri', 'value': 'http://vocab.nerc.ac.uk/collection/P01/current/SSALSG01/'}, 'P01notation': {'type': 'literal', 'value': 'SDN:P01::SSALSG01'}, 'prefLabel': {'type': 'literal', 'xml:lang': 'en', 'value': 'Salinity of the water body by thermosalinograph'}, 'P02': {'type': 'literal', 'value': 'SDN:P02::PSAL'}}, {'dt': {'type': 'uri', 'value': 'http://vocab.nerc.ac.uk/collection/P01/current/ODSDM021/'}, 'P01notation': {'type': 'literal', 'value': 'SDN:P01::ODSDM021'}, 'prefLabel': {'type': 'literal', 'xml:lang': 'en', 'value': 'Salinity of the water body'}, 'P09': {'type': 'literal', 'value': 'SDN:P09::SSAL'}, 'P02': {'type': 'literal', 'value': 'SDN:P02::PSAL'}}, {'dt': {'type': 'uri', 'value': 'http://vocab.nerc.ac.uk/collection/P01/current/SSALSL01/'}, 'P01notation': {'type': 'literal', 'value': 'SDN:P01::SSALSL01'}, 'prefLabel': {'type': 'literal', 'xml:lang': 'en', 'value': 'Salinity of the water body by STD'}, 'P02': {'type': 'literal', 'value': 'SDN:P02::PSAL'}}, {'dt': {'type': 'uri', 'value': 'http://vocab.nerc.ac.uk/collection/P01/current/SSALBSTX/'}, 'P01notation': {'type': 'literal', 'value': 'SDN:P01::SSALBSTX'}, 'prefLabel': {'type': 'literal', 'xml:lang': 'en', 'value': 'Salinity of the water body by bench salinometer'}, 'P02': {'type': 'literal', 'value': 'SDN:P02::PSAL'}}, {'dt': {'type': 'uri', 'value': 'http://vocab.nerc.ac.uk/collection/P01/current/SSALPR01/'}, 'P01notation': {'type': 'literal', 'value': 'SDN:P01::SSALPR01'}, 'prefLabel': {'type': 'literal', 'xml:lang': 'en', 'value': 'Salinity of the water body by conductivity cell'}, 'P02': {'type': 'literal', 'value': 'SDN:P02::PSAL'}}]}}\n",
      "INFO:root:Response: {'head': {'vars': ['dt', 'P01notation', 'prefLabel', 'R03', 'P09', 'P02']}, 'results': {'bindings': [{'dt': {'type': 'uri', 'value': 'http://vocab.nerc.ac.uk/collection/P01/current/PSSTRT01/'}, 'P01notation': {'type': 'literal', 'value': 'SDN:P01::PSSTRT01'}, 'prefLabel': {'type': 'literal', 'xml:lang': 'en', 'value': 'Temperature of surface microlayer {skin temperature} of the water body by infra-red radiometer'}, 'P02': {'type': 'literal', 'value': 'SDN:P02::PSST'}}, {'dt': {'type': 'uri', 'value': 'http://vocab.nerc.ac.uk/collection/P01/current/TEMPAV01/'}, 'P01notation': {'type': 'literal', 'value': 'SDN:P01::TEMPAV01'}, 'prefLabel': {'type': 'literal', 'xml:lang': 'en', 'value': 'Temperature of surface microlayer {skin temperature} of the water body by advanced very high resolution radiometer (AVHRR)'}, 'P02': {'type': 'literal', 'value': 'SDN:P02::PSST'}}, {'dt': {'type': 'uri', 'value': 'http://vocab.nerc.ac.uk/collection/P01/current/TEMPMWRD/'}, 'P01notation': {'type': 'literal', 'value': 'SDN:P01::TEMPMWRD'}, 'prefLabel': {'type': 'literal', 'xml:lang': 'en', 'value': 'Temperature of surface microlayer {subskin temperature} of the water body by microwave radiometer'}, 'P02': {'type': 'literal', 'value': 'SDN:P02::PSST'}}, {'dt': {'type': 'uri', 'value': 'http://vocab.nerc.ac.uk/collection/P01/current/TEMPST01/'}, 'P01notation': {'type': 'literal', 'value': 'SDN:P01::TEMPST01'}, 'prefLabel': {'type': 'literal', 'xml:lang': 'en', 'value': 'Temperature of the water body by CTD or STD'}, 'R03': {'type': 'literal', 'value': 'SDN:R03::TEMP'}, 'P02': {'type': 'literal', 'value': 'SDN:P02::TEMP'}}, {'dt': {'type': 'uri', 'value': 'http://vocab.nerc.ac.uk/collection/P01/current/TEMPTC03/'}, 'P01notation': {'type': 'literal', 'value': 'SDN:P01::TEMPTC03'}, 'prefLabel': {'type': 'literal', 'xml:lang': 'en', 'value': 'Temperature of the water body by in-situ thermistor (third sensor)'}, 'P02': {'type': 'literal', 'value': 'SDN:P02::TEMP'}}, {'dt': {'type': 'uri', 'value': 'http://vocab.nerc.ac.uk/collection/P01/current/TEMPPR01/'}, 'P01notation': {'type': 'literal', 'value': 'SDN:P01::TEMPPR01'}, 'prefLabel': {'type': 'literal', 'xml:lang': 'en', 'value': 'Temperature of the water body'}, 'P09': {'type': 'literal', 'value': 'SDN:P09::TE12'}, 'P02': {'type': 'literal', 'value': 'SDN:P02::TEMP'}}, {'dt': {'type': 'uri', 'value': 'http://vocab.nerc.ac.uk/collection/P01/current/TEMPPR01/'}, 'P01notation': {'type': 'literal', 'value': 'SDN:P01::TEMPPR01'}, 'prefLabel': {'type': 'literal', 'xml:lang': 'en', 'value': 'Temperature of the water body'}, 'P09': {'type': 'literal', 'value': 'SDN:P09::TE03'}, 'P02': {'type': 'literal', 'value': 'SDN:P02::TEMP'}}, {'dt': {'type': 'uri', 'value': 'http://vocab.nerc.ac.uk/collection/P01/current/TEMPPR01/'}, 'P01notation': {'type': 'literal', 'value': 'SDN:P01::TEMPPR01'}, 'prefLabel': {'type': 'literal', 'xml:lang': 'en', 'value': 'Temperature of the water body'}, 'P09': {'type': 'literal', 'value': 'SDN:P09::TE06'}, 'P02': {'type': 'literal', 'value': 'SDN:P02::TEMP'}}, {'dt': {'type': 'uri', 'value': 'http://vocab.nerc.ac.uk/collection/P01/current/TEMPPR01/'}, 'P01notation': {'type': 'literal', 'value': 'SDN:P01::TEMPPR01'}, 'prefLabel': {'type': 'literal', 'xml:lang': 'en', 'value': 'Temperature of the water body'}, 'P09': {'type': 'literal', 'value': 'SDN:P09::TE02'}, 'P02': {'type': 'literal', 'value': 'SDN:P02::TEMP'}}, {'dt': {'type': 'uri', 'value': 'http://vocab.nerc.ac.uk/collection/P01/current/TEMPPR01/'}, 'P01notation': {'type': 'literal', 'value': 'SDN:P01::TEMPPR01'}, 'prefLabel': {'type': 'literal', 'xml:lang': 'en', 'value': 'Temperature of the water body'}, 'P09': {'type': 'literal', 'value': 'SDN:P09::TE05'}, 'P02': {'type': 'literal', 'value': 'SDN:P02::TEMP'}}, {'dt': {'type': 'uri', 'value': 'http://vocab.nerc.ac.uk/collection/P01/current/TEMPPR01/'}, 'P01notation': {'type': 'literal', 'value': 'SDN:P01::TEMPPR01'}, 'prefLabel': {'type': 'literal', 'xml:lang': 'en', 'value': 'Temperature of the water body'}, 'P09': {'type': 'literal', 'value': 'SDN:P09::TE09'}, 'P02': {'type': 'literal', 'value': 'SDN:P02::TEMP'}}, {'dt': {'type': 'uri', 'value': 'http://vocab.nerc.ac.uk/collection/P01/current/TEMPPR01/'}, 'P01notation': {'type': 'literal', 'value': 'SDN:P01::TEMPPR01'}, 'prefLabel': {'type': 'literal', 'xml:lang': 'en', 'value': 'Temperature of the water body'}, 'P09': {'type': 'literal', 'value': 'SDN:P09::TE10'}, 'P02': {'type': 'literal', 'value': 'SDN:P02::TEMP'}}, {'dt': {'type': 'uri', 'value': 'http://vocab.nerc.ac.uk/collection/P01/current/TEMPPR01/'}, 'P01notation': {'type': 'literal', 'value': 'SDN:P01::TEMPPR01'}, 'prefLabel': {'type': 'literal', 'xml:lang': 'en', 'value': 'Temperature of the water body'}, 'P09': {'type': 'literal', 'value': 'SDN:P09::TE08'}, 'P02': {'type': 'literal', 'value': 'SDN:P02::TEMP'}}, {'dt': {'type': 'uri', 'value': 'http://vocab.nerc.ac.uk/collection/P01/current/TEMPPR01/'}, 'P01notation': {'type': 'literal', 'value': 'SDN:P01::TEMPPR01'}, 'prefLabel': {'type': 'literal', 'xml:lang': 'en', 'value': 'Temperature of the water body'}, 'P09': {'type': 'literal', 'value': 'SDN:P09::TE01'}, 'P02': {'type': 'literal', 'value': 'SDN:P02::TEMP'}}, {'dt': {'type': 'uri', 'value': 'http://vocab.nerc.ac.uk/collection/P01/current/TEMPPR01/'}, 'P01notation': {'type': 'literal', 'value': 'SDN:P01::TEMPPR01'}, 'prefLabel': {'type': 'literal', 'xml:lang': 'en', 'value': 'Temperature of the water body'}, 'P09': {'type': 'literal', 'value': 'SDN:P09::TE11'}, 'P02': {'type': 'literal', 'value': 'SDN:P02::TEMP'}}, {'dt': {'type': 'uri', 'value': 'http://vocab.nerc.ac.uk/collection/P01/current/TEMPPR01/'}, 'P01notation': {'type': 'literal', 'value': 'SDN:P01::TEMPPR01'}, 'prefLabel': {'type': 'literal', 'xml:lang': 'en', 'value': 'Temperature of the water body'}, 'P09': {'type': 'literal', 'value': 'SDN:P09::TE04'}, 'P02': {'type': 'literal', 'value': 'SDN:P02::TEMP'}}, {'dt': {'type': 'uri', 'value': 'http://vocab.nerc.ac.uk/collection/P01/current/TEMPPR01/'}, 'P01notation': {'type': 'literal', 'value': 'SDN:P01::TEMPPR01'}, 'prefLabel': {'type': 'literal', 'xml:lang': 'en', 'value': 'Temperature of the water body'}, 'P09': {'type': 'literal', 'value': 'SDN:P09::TE07'}, 'P02': {'type': 'literal', 'value': 'SDN:P02::TEMP'}}, {'dt': {'type': 'uri', 'value': 'http://vocab.nerc.ac.uk/collection/P01/current/TEMPPR01/'}, 'P01notation': {'type': 'literal', 'value': 'SDN:P01::TEMPPR01'}, 'prefLabel': {'type': 'literal', 'xml:lang': 'en', 'value': 'Temperature of the water body'}, 'P09': {'type': 'literal', 'value': 'SDN:P09::TEMP'}, 'P02': {'type': 'literal', 'value': 'SDN:P02::TEMP'}}, {'dt': {'type': 'uri', 'value': 'http://vocab.nerc.ac.uk/collection/P01/current/TEMPMC01/'}, 'P01notation': {'type': 'literal', 'value': 'SDN:P01::TEMPMC01'}, 'prefLabel': {'type': 'literal', 'xml:lang': 'en', 'value': 'Temperature of the water body by moving vessel profiler (MVP) and verification against independent measurements'}, 'P02': {'type': 'literal', 'value': 'SDN:P02::TEMP'}}, {'dt': {'type': 'uri', 'value': 'http://vocab.nerc.ac.uk/collection/P01/current/TEMPAPRT/'}, 'P01notation': {'type': 'literal', 'value': 'SDN:P01::TEMPAPRT'}, 'prefLabel': {'type': 'literal', 'xml:lang': 'en', 'value': 'Temperature of the water body by AWQMS Quanta platinum resistance thermometer'}, 'P02': {'type': 'literal', 'value': 'SDN:P02::TEMP'}}, {'dt': {'type': 'uri', 'value': 'http://vocab.nerc.ac.uk/collection/P01/current/TEMPTC14/'}, 'P01notation': {'type': 'literal', 'value': 'SDN:P01::TEMPTC14'}, 'prefLabel': {'type': 'literal', 'xml:lang': 'en', 'value': 'Temperature of the water body by in-situ thermistor (fourteenth sensor)'}, 'P02': {'type': 'literal', 'value': 'SDN:P02::TEMP'}}, {'dt': {'type': 'uri', 'value': 'http://vocab.nerc.ac.uk/collection/P01/current/TEMPCU01/'}, 'P01notation': {'type': 'literal', 'value': 'SDN:P01::TEMPCU01'}, 'prefLabel': {'type': 'literal', 'xml:lang': 'en', 'value': 'Temperature of the water body by CTD and NO verification against independent measurements'}, 'P02': {'type': 'literal', 'value': 'SDN:P02::TEMP'}}, {'dt': {'type': 'uri', 'value': 'http://vocab.nerc.ac.uk/collection/P01/current/TEMPTC10/'}, 'P01notation': {'type': 'literal', 'value': 'SDN:P01::TEMPTC10'}, 'prefLabel': {'type': 'literal', 'xml:lang': 'en', 'value': 'Temperature of the water body by in-situ thermistor (tenth sensor)'}, 'P02': {'type': 'literal', 'value': 'SDN:P02::TEMP'}}, {'dt': {'type': 'uri', 'value': 'http://vocab.nerc.ac.uk/collection/P01/current/TEMPPP01/'}, 'P01notation': {'type': 'literal', 'value': 'SDN:P01::TEMPPP01'}, 'prefLabel': {'type': 'literal', 'xml:lang': 'en', 'value': 'Temperature of the water body by YSI in-situ oxygen and temperature probe'}, 'P02': {'type': 'literal', 'value': 'SDN:P02::TEMP'}}, {'dt': {'type': 'uri', 'value': 'http://vocab.nerc.ac.uk/collection/P01/current/TEMPTC13/'}, 'P01notation': {'type': 'literal', 'value': 'SDN:P01::TEMPTC13'}, 'prefLabel': {'type': 'literal', 'xml:lang': 'en', 'value': 'Temperature of the water body by in-situ thermistor (thirteenth sensor)'}, 'P02': {'type': 'literal', 'value': 'SDN:P02::TEMP'}}, {'dt': {'type': 'uri', 'value': 'http://vocab.nerc.ac.uk/collection/P01/current/TEMPHU01/'}, 'P01notation': {'type': 'literal', 'value': 'SDN:P01::TEMPHU01'}, 'prefLabel': {'type': 'literal', 'xml:lang': 'en', 'value': 'Temperature of the water body by thermosalinograph hull sensor and NO verification against independent measurements'}, 'P02': {'type': 'literal', 'value': 'SDN:P02::TEMP'}}, {'dt': {'type': 'uri', 'value': 'http://vocab.nerc.ac.uk/collection/P01/current/TEMPHG02/'}, 'P01notation': {'type': 'literal', 'value': 'SDN:P01::TEMPHG02'}, 'prefLabel': {'type': 'literal', 'xml:lang': 'en', 'value': 'Temperature of the water body by thermosalinograph hull sensor (second sensor) and verification against independent measurements'}, 'P02': {'type': 'literal', 'value': 'SDN:P02::TEMP'}}, {'dt': {'type': 'uri', 'value': 'http://vocab.nerc.ac.uk/collection/P01/current/TEMPPR03/'}, 'P01notation': {'type': 'literal', 'value': 'SDN:P01::TEMPPR03'}, 'prefLabel': {'type': 'literal', 'xml:lang': 'en', 'value': 'Temperature of the water body by third sensor'}, 'P02': {'type': 'literal', 'value': 'SDN:P02::TEMP'}}, {'dt': {'type': 'uri', 'value': 'http://vocab.nerc.ac.uk/collection/P01/current/TEMPCC02/'}, 'P01notation': {'type': 'literal', 'value': 'SDN:P01::TEMPCC02'}, 'prefLabel': {'type': 'literal', 'xml:lang': 'en', 'value': 'Temperature of the water body by CTD and verification against independent measurements'}, 'P02': {'type': 'literal', 'value': 'SDN:P02::TEMP'}}, {'dt': {'type': 'uri', 'value': 'http://vocab.nerc.ac.uk/collection/P01/current/TEMPTC09/'}, 'P01notation': {'type': 'literal', 'value': 'SDN:P01::TEMPTC09'}, 'prefLabel': {'type': 'literal', 'xml:lang': 'en', 'value': 'Temperature of the water body by in-situ thermistor (ninth sensor)'}, 'P02': {'type': 'literal', 'value': 'SDN:P02::TEMP'}}, {'dt': {'type': 'uri', 'value': 'http://vocab.nerc.ac.uk/collection/P01/current/TEMPHG01/'}, 'P01notation': {'type': 'literal', 'value': 'SDN:P01::TEMPHG01'}, 'prefLabel': {'type': 'literal', 'xml:lang': 'en', 'value': 'Temperature of the water body by thermosalinograph hull sensor and verification against independent measurements'}, 'P02': {'type': 'literal', 'value': 'SDN:P02::TEMP'}}, {'dt': {'type': 'uri', 'value': 'http://vocab.nerc.ac.uk/collection/P01/current/TEMPRTNX/'}, 'P01notation': {'type': 'literal', 'value': 'SDN:P01::TEMPRTNX'}, 'prefLabel': {'type': 'literal', 'xml:lang': 'en', 'value': 'Temperature of the water body by reversing thermometer'}, 'P02': {'type': 'literal', 'value': 'SDN:P02::TEMP'}}, {'dt': {'type': 'uri', 'value': 'http://vocab.nerc.ac.uk/collection/P01/current/TEMPSG01/'}, 'P01notation': {'type': 'literal', 'value': 'SDN:P01::TEMPSG01'}, 'prefLabel': {'type': 'literal', 'xml:lang': 'en', 'value': 'Temperature of the water body by thermosalinograph and verification against independent measurements'}, 'P02': {'type': 'literal', 'value': 'SDN:P02::TEMP'}}, {'dt': {'type': 'uri', 'value': 'http://vocab.nerc.ac.uk/collection/P01/current/TEMPTC11/'}, 'P01notation': {'type': 'literal', 'value': 'SDN:P01::TEMPTC11'}, 'prefLabel': {'type': 'literal', 'xml:lang': 'en', 'value': 'Temperature of the water body by in-situ thermistor (eleventh sensor)'}, 'P02': {'type': 'literal', 'value': 'SDN:P02::TEMP'}}, {'dt': {'type': 'uri', 'value': 'http://vocab.nerc.ac.uk/collection/P01/current/TMCLCCI1/'}, 'P01notation': {'type': 'literal', 'value': 'SDN:P01::TMCLCCI1'}, 'prefLabel': {'type': 'literal', 'xml:lang': 'en', 'value': 'Temperature of the water body by in-situ thermometer and calibration against independent measurements'}, 'P02': {'type': 'literal', 'value': 'SDN:P02::TEMP'}}, {'dt': {'type': 'uri', 'value': 'http://vocab.nerc.ac.uk/collection/P01/current/TEMPHGNX/'}, 'P01notation': {'type': 'literal', 'value': 'SDN:P01::TEMPHGNX'}, 'prefLabel': {'type': 'literal', 'xml:lang': 'en', 'value': 'Temperature of the water body by hand-held mercury thermometer'}, 'P02': {'type': 'literal', 'value': 'SDN:P02::TEMP'}}, {'dt': {'type': 'uri', 'value': 'http://vocab.nerc.ac.uk/collection/P01/current/TEMPDTNX/'}, 'P01notation': {'type': 'literal', 'value': 'SDN:P01::TEMPDTNX'}, 'prefLabel': {'type': 'literal', 'xml:lang': 'en', 'value': 'Temperature of the water body by hand-held digital thermometer'}, 'P02': {'type': 'literal', 'value': 'SDN:P02::TEMP'}}, {'dt': {'type': 'uri', 'value': 'http://vocab.nerc.ac.uk/collection/P01/current/TEMPPR02/'}, 'P01notation': {'type': 'literal', 'value': 'SDN:P01::TEMPPR02'}, 'prefLabel': {'type': 'literal', 'xml:lang': 'en', 'value': 'Temperature of the water body by second sensor'}, 'P02': {'type': 'literal', 'value': 'SDN:P02::TEMP'}}, {'dt': {'type': 'uri', 'value': 'http://vocab.nerc.ac.uk/collection/P01/current/TEMPET01/'}, 'P01notation': {'type': 'literal', 'value': 'SDN:P01::TEMPET01'}, 'prefLabel': {'type': 'literal', 'xml:lang': 'en', 'value': 'Temperature of the water body by expendable bathythermograph (XBT)'}, 'P02': {'type': 'literal', 'value': 'SDN:P02::TEMP'}}, {'dt': {'type': 'uri', 'value': 'http://vocab.nerc.ac.uk/collection/P01/current/TEMPTC01/'}, 'P01notation': {'type': 'literal', 'value': 'SDN:P01::TEMPTC01'}, 'prefLabel': {'type': 'literal', 'xml:lang': 'en', 'value': 'Temperature of the water body by in-situ thermistor'}, 'P02': {'type': 'literal', 'value': 'SDN:P02::TEMP'}}, {'dt': {'type': 'uri', 'value': 'http://vocab.nerc.ac.uk/collection/P01/current/TEMPPP02/'}, 'P01notation': {'type': 'literal', 'value': 'SDN:P01::TEMPPP02'}, 'prefLabel': {'type': 'literal', 'xml:lang': 'en', 'value': 'Temperature of the water body by YSI profiling oxygen and temperature probe'}, 'P02': {'type': 'literal', 'value': 'SDN:P02::TEMP'}}, {'dt': {'type': 'uri', 'value': 'http://vocab.nerc.ac.uk/collection/P01/current/TEMPMT01/'}, 'P01notation': {'type': 'literal', 'value': 'SDN:P01::TEMPMT01'}, 'prefLabel': {'type': 'literal', 'xml:lang': 'en', 'value': 'Temperature of the water body by mechanical bathythermograph'}, 'P02': {'type': 'literal', 'value': 'SDN:P02::TEMP'}}, {'dt': {'type': 'uri', 'value': 'http://vocab.nerc.ac.uk/collection/P01/current/TEMPCC01/'}, 'P01notation': {'type': 'literal', 'value': 'SDN:P01::TEMPCC01'}, 'prefLabel': {'type': 'literal', 'xml:lang': 'en', 'value': 'Temperature of the water body by CTD and verification against independent measurements'}, 'P02': {'type': 'literal', 'value': 'SDN:P02::TEMP'}}, {'dt': {'type': 'uri', 'value': 'http://vocab.nerc.ac.uk/collection/P01/current/TEMPSU01/'}, 'P01notation': {'type': 'literal', 'value': 'SDN:P01::TEMPSU01'}, 'prefLabel': {'type': 'literal', 'xml:lang': 'en', 'value': 'Temperature of the water body by thermosalinograph and NO verification against independent measurements'}, 'P02': {'type': 'literal', 'value': 'SDN:P02::TEMP'}}, {'dt': {'type': 'uri', 'value': 'http://vocab.nerc.ac.uk/collection/P01/current/TEMPBT01/'}, 'P01notation': {'type': 'literal', 'value': 'SDN:P01::TEMPBT01'}, 'prefLabel': {'type': 'literal', 'xml:lang': 'en', 'value': 'Temperature of the water body by bathythermograph'}, 'P02': {'type': 'literal', 'value': 'SDN:P02::TEMP'}}, {'dt': {'type': 'uri', 'value': 'http://vocab.nerc.ac.uk/collection/P01/current/TEMPTC05/'}, 'P01notation': {'type': 'literal', 'value': 'SDN:P01::TEMPTC05'}, 'prefLabel': {'type': 'literal', 'xml:lang': 'en', 'value': 'Temperature of the water body by in-situ thermistor (fifth sensor)'}, 'P02': {'type': 'literal', 'value': 'SDN:P02::TEMP'}}, {'dt': {'type': 'uri', 'value': 'http://vocab.nerc.ac.uk/collection/P01/current/TMCLCCL1/'}, 'P01notation': {'type': 'literal', 'value': 'SDN:P01::TMCLCCL1'}, 'prefLabel': {'type': 'literal', 'xml:lang': 'en', 'value': 'Temperature of the water body by in-situ thermometer and laboratory calibration applied'}, 'P02': {'type': 'literal', 'value': 'SDN:P02::TEMP'}}, {'dt': {'type': 'uri', 'value': 'http://vocab.nerc.ac.uk/collection/P01/current/TEMPTB01/'}, 'P01notation': {'type': 'literal', 'value': 'SDN:P01::TEMPTB01'}, 'prefLabel': {'type': 'literal', 'xml:lang': 'en', 'value': 'Temperature of the water body by in-situ StowAway TidbiT temperature logger'}, 'P02': {'type': 'literal', 'value': 'SDN:P02::TEMP'}}, {'dt': {'type': 'uri', 'value': 'http://vocab.nerc.ac.uk/collection/P01/current/TEMPTC12/'}, 'P01notation': {'type': 'literal', 'value': 'SDN:P01::TEMPTC12'}, 'prefLabel': {'type': 'literal', 'xml:lang': 'en', 'value': 'Temperature of the water body by in-situ thermistor (twelfth sensor)'}, 'P02': {'type': 'literal', 'value': 'SDN:P02::TEMP'}}, {'dt': {'type': 'uri', 'value': 'http://vocab.nerc.ac.uk/collection/P01/current/TEMPPH01/'}, 'P01notation': {'type': 'literal', 'value': 'SDN:P01::TEMPPH01'}, 'prefLabel': {'type': 'literal', 'xml:lang': 'en', 'value': 'Temperature of the water body by temperature probe on half tide pressure gauge'}, 'P02': {'type': 'literal', 'value': 'SDN:P02::TEMP'}}, {'dt': {'type': 'uri', 'value': 'http://vocab.nerc.ac.uk/collection/P01/current/TEMPTC08/'}, 'P01notation': {'type': 'literal', 'value': 'SDN:P01::TEMPTC08'}, 'prefLabel': {'type': 'literal', 'xml:lang': 'en', 'value': 'Temperature of the water body by in-situ thermistor (eighth sensor)'}, 'P02': {'type': 'literal', 'value': 'SDN:P02::TEMP'}}, {'dt': {'type': 'uri', 'value': 'http://vocab.nerc.ac.uk/collection/P01/current/TEMPTC07/'}, 'P01notation': {'type': 'literal', 'value': 'SDN:P01::TEMPTC07'}, 'prefLabel': {'type': 'literal', 'xml:lang': 'en', 'value': 'Temperature of the water body by in-situ thermistor (seventh sensor)'}, 'P02': {'type': 'literal', 'value': 'SDN:P02::TEMP'}}, {'dt': {'type': 'uri', 'value': 'http://vocab.nerc.ac.uk/collection/P01/current/TEMPTC04/'}, 'P01notation': {'type': 'literal', 'value': 'SDN:P01::TEMPTC04'}, 'prefLabel': {'type': 'literal', 'xml:lang': 'en', 'value': 'Temperature of the water body by in-situ thermistor (fourth sensor)'}, 'P02': {'type': 'literal', 'value': 'SDN:P02::TEMP'}}, {'dt': {'type': 'uri', 'value': 'http://vocab.nerc.ac.uk/collection/P01/current/TEMPTC15/'}, 'P01notation': {'type': 'literal', 'value': 'SDN:P01::TEMPTC15'}, 'prefLabel': {'type': 'literal', 'xml:lang': 'en', 'value': 'Temperature of the water body by in-situ thermistor (fifteenth sensor)'}, 'P02': {'type': 'literal', 'value': 'SDN:P02::TEMP'}}, {'dt': {'type': 'uri', 'value': 'http://vocab.nerc.ac.uk/collection/P01/current/TEMPTC06/'}, 'P01notation': {'type': 'literal', 'value': 'SDN:P01::TEMPTC06'}, 'prefLabel': {'type': 'literal', 'xml:lang': 'en', 'value': 'Temperature of the water body by in-situ thermistor (sixth sensor)'}, 'P02': {'type': 'literal', 'value': 'SDN:P02::TEMP'}}, {'dt': {'type': 'uri', 'value': 'http://vocab.nerc.ac.uk/collection/P01/current/PSSTTS01/'}, 'P01notation': {'type': 'literal', 'value': 'SDN:P01::PSSTTS01'}, 'prefLabel': {'type': 'literal', 'xml:lang': 'en', 'value': 'Temperature of the water body by in-situ thermometer'}, 'P02': {'type': 'literal', 'value': 'SDN:P02::TEMP'}}, {'dt': {'type': 'uri', 'value': 'http://vocab.nerc.ac.uk/collection/P01/current/TEMPSZ01/'}, 'P01notation': {'type': 'literal', 'value': 'SDN:P01::TEMPSZ01'}, 'prefLabel': {'type': 'literal', 'xml:lang': 'en', 'value': 'Temperature of the water body by thermosalinograph'}, 'P02': {'type': 'literal', 'value': 'SDN:P02::TEMP'}}, {'dt': {'type': 'uri', 'value': 'http://vocab.nerc.ac.uk/collection/P01/current/TEMPMP01/'}, 'P01notation': {'type': 'literal', 'value': 'SDN:P01::TEMPMP01'}, 'prefLabel': {'type': 'literal', 'xml:lang': 'en', 'value': 'Temperature of the water body by model prediction'}, 'P02': {'type': 'literal', 'value': 'SDN:P02::TEMP'}}, {'dt': {'type': 'uri', 'value': 'http://vocab.nerc.ac.uk/collection/P01/current/TEMPTC02/'}, 'P01notation': {'type': 'literal', 'value': 'SDN:P01::TEMPTC02'}, 'prefLabel': {'type': 'literal', 'xml:lang': 'en', 'value': 'Temperature of the water body by in-situ thermistor (second sensor)'}, 'P02': {'type': 'literal', 'value': 'SDN:P02::TEMP'}}, {'dt': {'type': 'uri', 'value': 'http://vocab.nerc.ac.uk/collection/P01/current/TEMPHU02/'}, 'P01notation': {'type': 'literal', 'value': 'SDN:P01::TEMPHU02'}, 'prefLabel': {'type': 'literal', 'xml:lang': 'en', 'value': 'Temperature of the water body by thermosalinograph hull sensor (second sensor) and NO verification against independent measurements'}, 'P02': {'type': 'literal', 'value': 'SDN:P02::TEMP'}}, {'dt': {'type': 'uri', 'value': 'http://vocab.nerc.ac.uk/collection/P01/current/TEMPSB35/'}, 'P01notation': {'type': 'literal', 'value': 'SDN:P01::TEMPSB35'}, 'prefLabel': {'type': 'literal', 'xml:lang': 'en', 'value': 'Temperature of the water body by Sea-Bird SBE 35 deep ocean standards thermometer'}, 'P02': {'type': 'literal', 'value': 'SDN:P02::TEMP'}}, {'dt': {'type': 'uri', 'value': 'http://vocab.nerc.ac.uk/collection/P01/current/TEMPCU02/'}, 'P01notation': {'type': 'literal', 'value': 'SDN:P01::TEMPCU02'}, 'prefLabel': {'type': 'literal', 'xml:lang': 'en', 'value': 'Temperature of the water body by CTD (second sensor) and NO verification against independent measurements'}, 'P02': {'type': 'literal', 'value': 'SDN:P02::TEMP'}}, {'dt': {'type': 'uri', 'value': 'http://vocab.nerc.ac.uk/collection/P01/current/TEMPMV01/'}, 'P01notation': {'type': 'literal', 'value': 'SDN:P01::TEMPMV01'}, 'prefLabel': {'type': 'literal', 'xml:lang': 'en', 'value': 'Temperature of the water body by moving vessel profiler (MVP)'}, 'P02': {'type': 'literal', 'value': 'SDN:P02::TEMP'}}, {'dt': {'type': 'uri', 'value': 'http://vocab.nerc.ac.uk/collection/P01/current/TEMPST02/'}, 'P01notation': {'type': 'literal', 'value': 'SDN:P01::TEMPST02'}, 'prefLabel': {'type': 'literal', 'xml:lang': 'en', 'value': 'Temperature of the water body by CTD or STD (second sensor)'}, 'P02': {'type': 'literal', 'value': 'SDN:P02::TEMP'}}, {'dt': {'type': 'uri', 'value': 'http://vocab.nerc.ac.uk/collection/P01/current/TEMPS601/'}, 'P01notation': {'type': 'literal', 'value': 'SDN:P01::TEMPS601'}, 'prefLabel': {'type': 'literal', 'xml:lang': 'en', 'value': 'Temperature (IPTS-68) of the water body by CTD or STD'}, 'P02': {'type': 'literal', 'value': 'SDN:P02::TEMP'}}, {'dt': {'type': 'uri', 'value': 'http://vocab.nerc.ac.uk/collection/P01/current/TEMPP681/'}, 'P01notation': {'type': 'literal', 'value': 'SDN:P01::TEMPP681'}, 'prefLabel': {'type': 'literal', 'xml:lang': 'en', 'value': 'Temperature (IPTS-68) of the water body'}, 'P02': {'type': 'literal', 'value': 'SDN:P02::TEMP'}}, {'dt': {'type': 'uri', 'value': 'http://vocab.nerc.ac.uk/collection/P01/current/TEMPR601/'}, 'P01notation': {'type': 'literal', 'value': 'SDN:P01::TEMPR601'}, 'prefLabel': {'type': 'literal', 'xml:lang': 'en', 'value': 'Temperature (IPTS-68) of the water body by reversing thermometer'}, 'P02': {'type': 'literal', 'value': 'SDN:P02::TEMP'}}, {'dt': {'type': 'uri', 'value': 'http://vocab.nerc.ac.uk/collection/P01/current/TEMPR901/'}, 'P01notation': {'type': 'literal', 'value': 'SDN:P01::TEMPR901'}, 'prefLabel': {'type': 'literal', 'xml:lang': 'en', 'value': 'Temperature (ITS-90) of the water body by reversing thermometer'}, 'P02': {'type': 'literal', 'value': 'SDN:P02::TEMP'}}, {'dt': {'type': 'uri', 'value': 'http://vocab.nerc.ac.uk/collection/P01/current/TEMPP901/'}, 'P01notation': {'type': 'literal', 'value': 'SDN:P01::TEMPP901'}, 'prefLabel': {'type': 'literal', 'xml:lang': 'en', 'value': 'Temperature (ITS-90) of the water body'}, 'P02': {'type': 'literal', 'value': 'SDN:P02::TEMP'}}, {'dt': {'type': 'uri', 'value': 'http://vocab.nerc.ac.uk/collection/P01/current/TEMPS901/'}, 'P01notation': {'type': 'literal', 'value': 'SDN:P01::TEMPS901'}, 'prefLabel': {'type': 'literal', 'xml:lang': 'en', 'value': 'Temperature (ITS-90) of the water body by CTD or STD'}, 'P02': {'type': 'literal', 'value': 'SDN:P02::TEMP'}}, {'dt': {'type': 'uri', 'value': 'http://vocab.nerc.ac.uk/collection/P01/current/TEMPS902/'}, 'P01notation': {'type': 'literal', 'value': 'SDN:P01::TEMPS902'}, 'prefLabel': {'type': 'literal', 'xml:lang': 'en', 'value': 'Temperature (ITS-90) of the water body by CTD or STD (second sensor)'}, 'P02': {'type': 'literal', 'value': 'SDN:P02::TEMP'}}]}}\n"
     ]
    },
    {
     "name": "stdout",
     "output_type": "stream",
     "text": [
      "CPU times: user 44.5 ms, sys: 8.54 ms, total: 53 ms\n",
      "Wall time: 8.17 s\n"
     ]
    }
   ],
   "source": [
    "%%time\n",
    "try:\n",
    "    MarineRiBroker.EOV_LIST = ['EV_OXY', 'EV_SEATEMP', 'EV_SALIN']\n",
    "    broker = MarineRiBroker.MarineBroker(erddap_servers={\"https://erddap.eurobis.org//erddap\":['lyumkis']})\n",
    "except Exception as error:\n",
    "    print(error)\n",
    "    x = error"
   ]
  },
  {
   "cell_type": "markdown",
   "id": "941c4739-a664-4ceb-a83a-8373dd4c8286",
   "metadata": {
    "tags": []
   },
   "source": [
    "## Create a request to the broker :\n",
    "The user must provide the EOVs, min/max date/lat/lon, output format desired.\n",
    "\n",
    "When creating a query, the broker :\n",
    "* first looks at every dataset to see if they match any eov requested by the user\n",
    "* then checks if the datasets match the time/bbox requested by the user"
   ]
  },
  {
   "cell_type": "code",
   "execution_count": 20,
   "id": "7a7cd609",
   "metadata": {},
   "outputs": [],
   "source": [
    "# broker.vocabularies['EV_OXY']"
   ]
  },
  {
   "cell_type": "code",
   "execution_count": 5,
   "id": "7c66176a-3301-4d07-a2bb-9b5b8a5e5161",
   "metadata": {},
   "outputs": [],
   "source": [
    "start_date = \"1900-01-01\"\n",
    "end_date = \"2022-01-02\"\n",
    "# North-east Atlantic Ocean\n",
    "min_lon = 0\n",
    "min_lat = 0\n",
    "max_lon = 90\n",
    "max_lat = 90\n",
    "\n",
    "logger.setLevel(logging.DEBUG)"
   ]
  },
  {
   "cell_type": "code",
   "execution_count": 6,
   "id": "15140942",
   "metadata": {},
   "outputs": [
    {
     "name": "stderr",
     "output_type": "stream",
     "text": [
      "DEBUG:marine_eov_broker.MarineRiBroker:Looking for eovs in lyumkis took 0.0005030632019042969 seconds with result : ['Temp']\n",
      "DEBUG:marine_eov_broker.ErddapMarineRI:Will check spatiotemporal constraints from query https://erddap.eurobis.org//erddap/tabledap/lyumkis.csv?time&time%3E=1900-01-01&time%3C=2022-01-02&latitude%3E=0.0&latitude%3C=90.0&longitude%3E=0.0&longitude%3C=90.0&orderByLimit(%22time/6months,1%22)\n",
      "DEBUG:marine_eov_broker.MarineRiBroker:Will add variables found ['Temp'] in response for dataset lyumkis\n",
      "DEBUG:marine_eov_broker.MarineRiBroker:Creating DataFrame with dataset lyumkis\n"
     ]
    },
    {
     "name": "stdout",
     "output_type": "stream",
     "text": [
      "CPU times: user 31.5 ms, sys: 0 ns, total: 31.5 ms\n",
      "Wall time: 415 ms\n"
     ]
    }
   ],
   "source": [
    "%%time\n",
    "response = broker.submit_request([\"EV_SALIN\", \"EV_OXY\", \"EV_SEATEMP\"], \n",
    "                                 start_date,\n",
    "                                 end_date,\n",
    "                                 min_lon,\n",
    "                                 min_lat,\n",
    "                                 max_lon,\n",
    "                                 max_lat,\n",
    "                                 \"nc\"\n",
    "                                 )"
   ]
  },
  {
   "cell_type": "code",
   "execution_count": null,
   "id": "e1af3db0-892b-4c8e-9fe8-9be3abdf663a",
   "metadata": {},
   "outputs": [],
   "source": []
  },
  {
   "cell_type": "code",
   "execution_count": 27,
   "id": "2a1a2bd8-3bf3-46f1-bd75-925df138bfc2",
   "metadata": {},
   "outputs": [
    {
     "data": {
      "text/html": [
       "<div>\n",
       "<style scoped>\n",
       "    .dataframe tbody tr th:only-of-type {\n",
       "        vertical-align: middle;\n",
       "    }\n",
       "\n",
       "    .dataframe tbody tr th {\n",
       "        vertical-align: top;\n",
       "    }\n",
       "\n",
       "    .dataframe thead th {\n",
       "        text-align: right;\n",
       "    }\n",
       "</style>\n",
       "<table border=\"1\" class=\"dataframe\">\n",
       "  <thead>\n",
       "    <tr style=\"text-align: right;\">\n",
       "      <th></th>\n",
       "      <th>query_url</th>\n",
       "      <th>AccConstrDescription</th>\n",
       "      <th>AccConstrDisplay</th>\n",
       "      <th>AccConstrEN</th>\n",
       "      <th>AccessConstraint</th>\n",
       "      <th>AccessConstraints</th>\n",
       "      <th>Acronym</th>\n",
       "      <th>BrackishFlag</th>\n",
       "      <th>CDate</th>\n",
       "      <th>cdm_data_type</th>\n",
       "      <th>...</th>\n",
       "      <th>VersionDay</th>\n",
       "      <th>VersionMonth</th>\n",
       "      <th>VersionName</th>\n",
       "      <th>VersionYear</th>\n",
       "      <th>VlizCoreFlag</th>\n",
       "      <th>Westernmost_Easting</th>\n",
       "      <th>query_object</th>\n",
       "      <th>EV_OXY</th>\n",
       "      <th>EV_SEATEMP</th>\n",
       "      <th>EV_SALIN</th>\n",
       "    </tr>\n",
       "  </thead>\n",
       "  <tbody>\n",
       "    <tr>\n",
       "      <th>lyumkis</th>\n",
       "      <td>https://erddap.eurobis.org//erddap/tabledap/ly...</td>\n",
       "      <td>This license lets others distribute, remix, tw...</td>\n",
       "      <td>This dataset is licensed under a Creative Comm...</td>\n",
       "      <td>Attribution (CC BY)</td>\n",
       "      <td>Attribution (CC BY)</td>\n",
       "      <td>None</td>\n",
       "      <td>None</td>\n",
       "      <td>0</td>\n",
       "      <td>2010-11-03</td>\n",
       "      <td>Other</td>\n",
       "      <td>...</td>\n",
       "      <td>3</td>\n",
       "      <td>11</td>\n",
       "      <td>1</td>\n",
       "      <td>2010</td>\n",
       "      <td>1</td>\n",
       "      <td>29.7</td>\n",
       "      <td>&lt;marine_eov_broker.MarineRiBroker.ErddapReques...</td>\n",
       "      <td></td>\n",
       "      <td>Temp</td>\n",
       "      <td></td>\n",
       "    </tr>\n",
       "  </tbody>\n",
       "</table>\n",
       "<p>1 rows × 79 columns</p>\n",
       "</div>"
      ],
      "text/plain": [
       "                                                 query_url  \\\n",
       "lyumkis  https://erddap.eurobis.org//erddap/tabledap/ly...   \n",
       "\n",
       "                                      AccConstrDescription  \\\n",
       "lyumkis  This license lets others distribute, remix, tw...   \n",
       "\n",
       "                                          AccConstrDisplay  \\\n",
       "lyumkis  This dataset is licensed under a Creative Comm...   \n",
       "\n",
       "                 AccConstrEN     AccessConstraint AccessConstraints Acronym  \\\n",
       "lyumkis  Attribution (CC BY)  Attribution (CC BY)              None    None   \n",
       "\n",
       "        BrackishFlag       CDate cdm_data_type  ... VersionDay VersionMonth  \\\n",
       "lyumkis            0  2010-11-03         Other  ...          3           11   \n",
       "\n",
       "        VersionName VersionYear VlizCoreFlag Westernmost_Easting  \\\n",
       "lyumkis           1        2010            1                29.7   \n",
       "\n",
       "                                              query_object EV_OXY EV_SEATEMP  \\\n",
       "lyumkis  <marine_eov_broker.MarineRiBroker.ErddapReques...              Temp   \n",
       "\n",
       "        EV_SALIN  \n",
       "lyumkis           \n",
       "\n",
       "[1 rows x 79 columns]"
      ]
     },
     "execution_count": 27,
     "metadata": {},
     "output_type": "execute_result"
    }
   ],
   "source": [
    "response.queries"
   ]
  },
  {
   "cell_type": "code",
   "execution_count": 28,
   "id": "512227b8-ff79-439f-9b3a-7b80f96b458e",
   "metadata": {
    "tags": []
   },
   "outputs": [],
   "source": [
    "# %%time\n",
    "# response = broker.submit_request([\"EV_SALIN\", \"EV_OXY\", \"EV_SEATEMP\", \"EV_CO2\", \"EV_CHLA\"], \n",
    "#                                  start_date,\n",
    "#                                  end_date,\n",
    "#                                  min_lon,\n",
    "#                                  min_lat,\n",
    "#                                  max_lon,\n",
    "#                                  max_lat,\n",
    "#                                  \"nc\"\n",
    "#                                  )"
   ]
  },
  {
   "cell_type": "markdown",
   "id": "f71e7d15-6b26-4577-a5dd-74f60df4e2f1",
   "metadata": {},
   "source": [
    "## Query Response"
   ]
  },
  {
   "cell_type": "code",
   "execution_count": 31,
   "id": "a244f81f",
   "metadata": {},
   "outputs": [],
   "source": [
    "xx = response.get_dataset('lyumkis')"
   ]
  },
  {
   "cell_type": "code",
   "execution_count": 41,
   "id": "9727590f-5497-4e80-bc71-c4d0cf0fc4c1",
   "metadata": {},
   "outputs": [
    {
     "data": {
      "text/html": [
       "<div>\n",
       "<style scoped>\n",
       "    .dataframe tbody tr th:only-of-type {\n",
       "        vertical-align: middle;\n",
       "    }\n",
       "\n",
       "    .dataframe tbody tr th {\n",
       "        vertical-align: top;\n",
       "    }\n",
       "\n",
       "    .dataframe thead th {\n",
       "        text-align: right;\n",
       "    }\n",
       "</style>\n",
       "<table border=\"1\" class=\"dataframe\">\n",
       "  <thead>\n",
       "    <tr style=\"text-align: right;\">\n",
       "      <th></th>\n",
       "      <th>Row Type</th>\n",
       "      <th>Variable Name</th>\n",
       "      <th>Attribute Name</th>\n",
       "      <th>Data Type</th>\n",
       "      <th>Value</th>\n",
       "    </tr>\n",
       "  </thead>\n",
       "  <tbody>\n",
       "    <tr>\n",
       "      <th>0</th>\n",
       "      <td>attribute</td>\n",
       "      <td>NC_GLOBAL</td>\n",
       "      <td>AccConstrDescription</td>\n",
       "      <td>String</td>\n",
       "      <td>This license lets others distribute, remix, tw...</td>\n",
       "    </tr>\n",
       "    <tr>\n",
       "      <th>1</th>\n",
       "      <td>attribute</td>\n",
       "      <td>NC_GLOBAL</td>\n",
       "      <td>AccConstrDisplay</td>\n",
       "      <td>String</td>\n",
       "      <td>This dataset is licensed under a Creative Comm...</td>\n",
       "    </tr>\n",
       "    <tr>\n",
       "      <th>2</th>\n",
       "      <td>attribute</td>\n",
       "      <td>NC_GLOBAL</td>\n",
       "      <td>AccConstrEN</td>\n",
       "      <td>String</td>\n",
       "      <td>Attribution (CC BY)</td>\n",
       "    </tr>\n",
       "    <tr>\n",
       "      <th>3</th>\n",
       "      <td>attribute</td>\n",
       "      <td>NC_GLOBAL</td>\n",
       "      <td>AccessConstraint</td>\n",
       "      <td>String</td>\n",
       "      <td>Attribution (CC BY)</td>\n",
       "    </tr>\n",
       "    <tr>\n",
       "      <th>4</th>\n",
       "      <td>attribute</td>\n",
       "      <td>NC_GLOBAL</td>\n",
       "      <td>AccessConstraints</td>\n",
       "      <td>String</td>\n",
       "      <td>None</td>\n",
       "    </tr>\n",
       "    <tr>\n",
       "      <th>...</th>\n",
       "      <td>...</td>\n",
       "      <td>...</td>\n",
       "      <td>...</td>\n",
       "      <td>...</td>\n",
       "      <td>...</td>\n",
       "    </tr>\n",
       "    <tr>\n",
       "      <th>171</th>\n",
       "      <td>attribute</td>\n",
       "      <td>WaterAbund</td>\n",
       "      <td>long_name</td>\n",
       "      <td>String</td>\n",
       "      <td>SDN:P01::SDBIOL01</td>\n",
       "    </tr>\n",
       "    <tr>\n",
       "      <th>172</th>\n",
       "      <td>attribute</td>\n",
       "      <td>WaterAbund</td>\n",
       "      <td>sdn_parameter_urn</td>\n",
       "      <td>String</td>\n",
       "      <td>SDN:P01::SDBIOL01</td>\n",
       "    </tr>\n",
       "    <tr>\n",
       "      <th>173</th>\n",
       "      <td>attribute</td>\n",
       "      <td>WaterAbund</td>\n",
       "      <td>units</td>\n",
       "      <td>String</td>\n",
       "      <td>None</td>\n",
       "    </tr>\n",
       "    <tr>\n",
       "      <th>174</th>\n",
       "      <td>attribute</td>\n",
       "      <td>WaterAbund</td>\n",
       "      <td>units_uri</td>\n",
       "      <td>String</td>\n",
       "      <td>None</td>\n",
       "    </tr>\n",
       "    <tr>\n",
       "      <th>175</th>\n",
       "      <td>attribute</td>\n",
       "      <td>WaterAbund</td>\n",
       "      <td>uri</td>\n",
       "      <td>String</td>\n",
       "      <td>https://vocab.nerc.ac.uk/collection/P01/curren...</td>\n",
       "    </tr>\n",
       "  </tbody>\n",
       "</table>\n",
       "<p>176 rows × 5 columns</p>\n",
       "</div>"
      ],
      "text/plain": [
       "      Row Type Variable Name        Attribute Name Data Type  \\\n",
       "0    attribute     NC_GLOBAL  AccConstrDescription    String   \n",
       "1    attribute     NC_GLOBAL      AccConstrDisplay    String   \n",
       "2    attribute     NC_GLOBAL           AccConstrEN    String   \n",
       "3    attribute     NC_GLOBAL      AccessConstraint    String   \n",
       "4    attribute     NC_GLOBAL     AccessConstraints    String   \n",
       "..         ...           ...                   ...       ...   \n",
       "171  attribute    WaterAbund             long_name    String   \n",
       "172  attribute    WaterAbund     sdn_parameter_urn    String   \n",
       "173  attribute    WaterAbund                 units    String   \n",
       "174  attribute    WaterAbund             units_uri    String   \n",
       "175  attribute    WaterAbund                   uri    String   \n",
       "\n",
       "                                                 Value  \n",
       "0    This license lets others distribute, remix, tw...  \n",
       "1    This dataset is licensed under a Creative Comm...  \n",
       "2                                  Attribution (CC BY)  \n",
       "3                                  Attribution (CC BY)  \n",
       "4                                                 None  \n",
       "..                                                 ...  \n",
       "171                                  SDN:P01::SDBIOL01  \n",
       "172                                  SDN:P01::SDBIOL01  \n",
       "173                                               None  \n",
       "174                                               None  \n",
       "175  https://vocab.nerc.ac.uk/collection/P01/curren...  \n",
       "\n",
       "[176 rows x 5 columns]"
      ]
     },
     "execution_count": 41,
     "metadata": {},
     "output_type": "execute_result"
    }
   ],
   "source": [
    "xx.metadata"
   ]
  },
  {
   "cell_type": "code",
   "execution_count": 42,
   "id": "3c74ca61-7bd1-4739-9616-5b890d4565e4",
   "metadata": {},
   "outputs": [
    {
     "data": {
      "text/plain": [
       "{'EV_SEATEMP': ['Temp']}"
      ]
     },
     "execution_count": 42,
     "metadata": {},
     "output_type": "execute_result"
    }
   ],
   "source": [
    "xx.found_eovs"
   ]
  },
  {
   "cell_type": "code",
   "execution_count": 43,
   "id": "551f7840",
   "metadata": {},
   "outputs": [
    {
     "data": {
      "text/plain": [
       "'https://erddap.eurobis.org//erddap/tabledap/lyumkis'"
      ]
     },
     "execution_count": 43,
     "metadata": {},
     "output_type": "execute_result"
    }
   ],
   "source": [
    "xx.data_url"
   ]
  },
  {
   "cell_type": "markdown",
   "id": "73ba2c3b-27cd-4ad3-9929-45e4f7f5dc6d",
   "metadata": {},
   "source": [
    "You can do a simple search on the ERDDAP metadata to find whatever text you're looking for. "
   ]
  },
  {
   "cell_type": "code",
   "execution_count": 55,
   "id": "119aef63-923c-4e7b-8700-b07892966df9",
   "metadata": {},
   "outputs": [
    {
     "data": {
      "text/html": [
       "<div>\n",
       "<style scoped>\n",
       "    .dataframe tbody tr th:only-of-type {\n",
       "        vertical-align: middle;\n",
       "    }\n",
       "\n",
       "    .dataframe tbody tr th {\n",
       "        vertical-align: top;\n",
       "    }\n",
       "\n",
       "    .dataframe thead th {\n",
       "        text-align: right;\n",
       "    }\n",
       "</style>\n",
       "<table border=\"1\" class=\"dataframe\">\n",
       "  <thead>\n",
       "    <tr style=\"text-align: right;\">\n",
       "      <th></th>\n",
       "      <th>Row Type</th>\n",
       "      <th>Variable Name</th>\n",
       "      <th>Attribute Name</th>\n",
       "      <th>Data Type</th>\n",
       "      <th>Value</th>\n",
       "    </tr>\n",
       "  </thead>\n",
       "  <tbody>\n",
       "    <tr>\n",
       "      <th>164</th>\n",
       "      <td>attribute</td>\n",
       "      <td>Temp</td>\n",
       "      <td>long_name</td>\n",
       "      <td>String</td>\n",
       "      <td>SDN:P01::TEMPPR01</td>\n",
       "    </tr>\n",
       "    <tr>\n",
       "      <th>165</th>\n",
       "      <td>attribute</td>\n",
       "      <td>Temp</td>\n",
       "      <td>sdn_parameter_urn</td>\n",
       "      <td>String</td>\n",
       "      <td>SDN:P01::TEMPPR01</td>\n",
       "    </tr>\n",
       "    <tr>\n",
       "      <th>171</th>\n",
       "      <td>attribute</td>\n",
       "      <td>WaterAbund</td>\n",
       "      <td>long_name</td>\n",
       "      <td>String</td>\n",
       "      <td>SDN:P01::SDBIOL01</td>\n",
       "    </tr>\n",
       "    <tr>\n",
       "      <th>172</th>\n",
       "      <td>attribute</td>\n",
       "      <td>WaterAbund</td>\n",
       "      <td>sdn_parameter_urn</td>\n",
       "      <td>String</td>\n",
       "      <td>SDN:P01::SDBIOL01</td>\n",
       "    </tr>\n",
       "  </tbody>\n",
       "</table>\n",
       "</div>"
      ],
      "text/plain": [
       "      Row Type Variable Name     Attribute Name Data Type              Value\n",
       "164  attribute          Temp          long_name    String  SDN:P01::TEMPPR01\n",
       "165  attribute          Temp  sdn_parameter_urn    String  SDN:P01::TEMPPR01\n",
       "171  attribute    WaterAbund          long_name    String  SDN:P01::SDBIOL01\n",
       "172  attribute    WaterAbund  sdn_parameter_urn    String  SDN:P01::SDBIOL01"
      ]
     },
     "execution_count": 55,
     "metadata": {},
     "output_type": "execute_result"
    }
   ],
   "source": [
    "xx.metadata[xx.metadata['Value'].str.startswith('SDN:P01', na=False)]"
   ]
  },
  {
   "cell_type": "markdown",
   "id": "6e37c937-ab8e-4dd0-9d9c-81218a2dc78d",
   "metadata": {},
   "source": [
    "## Results\n",
    "\n",
    "The interesting part !\n",
    "The broker provides a BrokerResponse object. It contains the variable **queries** which is a Pandas DataFrame.\n",
    "\n",
    "The pandas DataFrame contains all the global attributes, query URL and ErddapRequest object for each dataset found for the user request."
   ]
  },
  {
   "cell_type": "code",
   "execution_count": 10,
   "id": "913f6880-0aea-424b-bc52-0b085fe9c272",
   "metadata": {},
   "outputs": [
    {
     "data": {
      "text/html": [
       "<div>\n",
       "<style scoped>\n",
       "    .dataframe tbody tr th:only-of-type {\n",
       "        vertical-align: middle;\n",
       "    }\n",
       "\n",
       "    .dataframe tbody tr th {\n",
       "        vertical-align: top;\n",
       "    }\n",
       "\n",
       "    .dataframe thead th {\n",
       "        text-align: right;\n",
       "    }\n",
       "</style>\n",
       "<table border=\"1\" class=\"dataframe\">\n",
       "  <thead>\n",
       "    <tr style=\"text-align: right;\">\n",
       "      <th></th>\n",
       "      <th>query_url</th>\n",
       "      <th>AccConstrDescription</th>\n",
       "      <th>AccConstrDisplay</th>\n",
       "      <th>AccConstrEN</th>\n",
       "      <th>AccessConstraint</th>\n",
       "      <th>AccessConstraints</th>\n",
       "      <th>Acronym</th>\n",
       "      <th>BrackishFlag</th>\n",
       "      <th>CDate</th>\n",
       "      <th>cdm_data_type</th>\n",
       "      <th>...</th>\n",
       "      <th>VersionDay</th>\n",
       "      <th>VersionMonth</th>\n",
       "      <th>VersionName</th>\n",
       "      <th>VersionYear</th>\n",
       "      <th>VlizCoreFlag</th>\n",
       "      <th>Westernmost_Easting</th>\n",
       "      <th>query_object</th>\n",
       "      <th>EV_OXY</th>\n",
       "      <th>EV_SEATEMP</th>\n",
       "      <th>EV_SALIN</th>\n",
       "    </tr>\n",
       "  </thead>\n",
       "  <tbody>\n",
       "    <tr>\n",
       "      <th>lyumkis</th>\n",
       "      <td>https://erddap.eurobis.org//erddap/tabledap/ly...</td>\n",
       "      <td>This license lets others distribute, remix, tw...</td>\n",
       "      <td>This dataset is licensed under a Creative Comm...</td>\n",
       "      <td>Attribution (CC BY)</td>\n",
       "      <td>Attribution (CC BY)</td>\n",
       "      <td>None</td>\n",
       "      <td>None</td>\n",
       "      <td>0</td>\n",
       "      <td>2010-11-03</td>\n",
       "      <td>Other</td>\n",
       "      <td>...</td>\n",
       "      <td>3</td>\n",
       "      <td>11</td>\n",
       "      <td>1</td>\n",
       "      <td>2010</td>\n",
       "      <td>1</td>\n",
       "      <td>29.7</td>\n",
       "      <td>&lt;marine_eov_broker.MarineRiBroker.ErddapReques...</td>\n",
       "      <td></td>\n",
       "      <td>Temp</td>\n",
       "      <td></td>\n",
       "    </tr>\n",
       "  </tbody>\n",
       "</table>\n",
       "<p>1 rows × 79 columns</p>\n",
       "</div>"
      ],
      "text/plain": [
       "                                                 query_url  \\\n",
       "lyumkis  https://erddap.eurobis.org//erddap/tabledap/ly...   \n",
       "\n",
       "                                      AccConstrDescription  \\\n",
       "lyumkis  This license lets others distribute, remix, tw...   \n",
       "\n",
       "                                          AccConstrDisplay  \\\n",
       "lyumkis  This dataset is licensed under a Creative Comm...   \n",
       "\n",
       "                 AccConstrEN     AccessConstraint AccessConstraints Acronym  \\\n",
       "lyumkis  Attribution (CC BY)  Attribution (CC BY)              None    None   \n",
       "\n",
       "        BrackishFlag       CDate cdm_data_type  ... VersionDay VersionMonth  \\\n",
       "lyumkis            0  2010-11-03         Other  ...          3           11   \n",
       "\n",
       "        VersionName VersionYear VlizCoreFlag Westernmost_Easting  \\\n",
       "lyumkis           1        2010            1                29.7   \n",
       "\n",
       "                                              query_object EV_OXY EV_SEATEMP  \\\n",
       "lyumkis  <marine_eov_broker.MarineRiBroker.ErddapReques...              Temp   \n",
       "\n",
       "        EV_SALIN  \n",
       "lyumkis           \n",
       "\n",
       "[1 rows x 79 columns]"
      ]
     },
     "execution_count": 10,
     "metadata": {},
     "output_type": "execute_result"
    }
   ],
   "source": [
    "response.queries"
   ]
  },
  {
   "cell_type": "markdown",
   "id": "c2235907-a94f-4179-a02d-5f46a1dd167e",
   "metadata": {},
   "source": [
    "**Or just the list of datasets ID**"
   ]
  },
  {
   "cell_type": "code",
   "execution_count": 11,
   "id": "f64edbb7-8d81-42f4-be0f-e6fb25fe9c58",
   "metadata": {},
   "outputs": [
    {
     "data": {
      "text/plain": [
       "['lyumkis']"
      ]
     },
     "execution_count": 11,
     "metadata": {},
     "output_type": "execute_result"
    }
   ],
   "source": [
    "response.get_datasets_list()"
   ]
  },
  {
   "cell_type": "markdown",
   "id": "f2ca656c-1043-4b7b-8597-855e424f1afa",
   "metadata": {},
   "source": [
    "### Access a dataset with its dataset ID"
   ]
  },
  {
   "cell_type": "code",
   "execution_count": 12,
   "id": "2d62a6a1-528c-4f20-9313-c48c1ff63182",
   "metadata": {},
   "outputs": [
    {
     "name": "stdout",
     "output_type": "stream",
     "text": [
      "lyumkis\n"
     ]
    }
   ],
   "source": [
    "dataset_id = response.get_datasets_list()[0]\n",
    "print(dataset_id)"
   ]
  },
  {
   "cell_type": "markdown",
   "id": "04babf1e-b35e-415a-a283-85fc63f1182e",
   "metadata": {},
   "source": [
    "### Get the description of the EOVs found variables in the dataset"
   ]
  },
  {
   "cell_type": "code",
   "execution_count": 13,
   "id": "af4dad2a-c839-4a1d-a2d4-4ed5d9ee98ad",
   "metadata": {},
   "outputs": [
    {
     "data": {
      "text/plain": [
       "{'EV_SALIN': '', 'EV_OXY': '', 'EV_SEATEMP': 'Temp'}"
      ]
     },
     "execution_count": 13,
     "metadata": {},
     "output_type": "execute_result"
    }
   ],
   "source": [
    "dataset_id = 'lyumkis'\n",
    "response.get_dataset_EOVs_list(dataset_id)"
   ]
  },
  {
   "cell_type": "markdown",
   "id": "a025079c-b543-416b-8152-8b508535cad6",
   "metadata": {},
   "source": [
    "### Get the query URL for the dataset ID"
   ]
  },
  {
   "cell_type": "code",
   "execution_count": 14,
   "id": "2e7242cc-565d-4c83-9548-731b89185dce",
   "metadata": {},
   "outputs": [
    {
     "data": {
      "text/plain": [
       "'https://erddap.eurobis.org//erddap/tabledap/lyumkis.nc?time%2Clatitude%2Clongitude%2CTemp&time%3E=1900-01-01&time%3C=2022-01-02&latitude%3E=0.0&latitude%3C=90.0&longitude%3E=0.0&longitude%3C=90.0'"
      ]
     },
     "execution_count": 14,
     "metadata": {},
     "output_type": "execute_result"
    }
   ],
   "source": [
    "response.get_dataset_query_url(dataset_id)"
   ]
  },
  {
   "cell_type": "code",
   "execution_count": 15,
   "id": "58652a2f-21db-41ec-8c17-43bf212c8d2f",
   "metadata": {},
   "outputs": [
    {
     "data": {
      "text/plain": [
       "marine_eov_broker.MarineRiBroker.BrokerResponse"
      ]
     },
     "execution_count": 15,
     "metadata": {},
     "output_type": "execute_result"
    }
   ],
   "source": [
    "response.__class__"
   ]
  },
  {
   "cell_type": "markdown",
   "id": "5f33ed74-a933-475a-911d-17b4310c305e",
   "metadata": {},
   "source": [
    "### Execute a query & get the result as a Pandas DataFrame..."
   ]
  },
  {
   "cell_type": "code",
   "execution_count": 16,
   "id": "518589e3-a08e-4d79-ab5d-fdb06c06ce08",
   "metadata": {},
   "outputs": [
    {
     "name": "stderr",
     "output_type": "stream",
     "text": [
      "DEBUG:urllib3.connectionpool:Starting new HTTPS connection (1): erddap.eurobis.org:443\n",
      "DEBUG:urllib3.connectionpool:https://erddap.eurobis.org:443 \"GET //erddap/tabledap/lyumkis.nc?time%2Clatitude%2Clongitude%2CTemp&time%3E=1900-01-01&time%3C=2022-01-02&latitude%3E=0.0&latitude%3C=90.0&longitude%3E=0.0&longitude%3C=90.0 HTTP/1.1\" 200 None\n"
     ]
    },
    {
     "data": {
      "text/html": [
       "<div>\n",
       "<style scoped>\n",
       "    .dataframe tbody tr th:only-of-type {\n",
       "        vertical-align: middle;\n",
       "    }\n",
       "\n",
       "    .dataframe tbody tr th {\n",
       "        vertical-align: top;\n",
       "    }\n",
       "\n",
       "    .dataframe thead th {\n",
       "        text-align: right;\n",
       "    }\n",
       "</style>\n",
       "<table border=\"1\" class=\"dataframe\">\n",
       "  <thead>\n",
       "    <tr style=\"text-align: right;\">\n",
       "      <th></th>\n",
       "      <th>time</th>\n",
       "      <th>latitude</th>\n",
       "      <th>longitude</th>\n",
       "      <th>Temp</th>\n",
       "    </tr>\n",
       "    <tr>\n",
       "      <th>row</th>\n",
       "      <th></th>\n",
       "      <th></th>\n",
       "      <th></th>\n",
       "      <th></th>\n",
       "    </tr>\n",
       "  </thead>\n",
       "  <tbody>\n",
       "    <tr>\n",
       "      <th>0</th>\n",
       "      <td>2005-01-07 05:35:00</td>\n",
       "      <td>45.720001</td>\n",
       "      <td>31.690001</td>\n",
       "      <td>0</td>\n",
       "    </tr>\n",
       "    <tr>\n",
       "      <th>1</th>\n",
       "      <td>2005-01-07 05:35:00</td>\n",
       "      <td>45.720001</td>\n",
       "      <td>31.690001</td>\n",
       "      <td>0</td>\n",
       "    </tr>\n",
       "    <tr>\n",
       "      <th>2</th>\n",
       "      <td>2005-01-07 05:35:00</td>\n",
       "      <td>45.720001</td>\n",
       "      <td>31.690001</td>\n",
       "      <td>0</td>\n",
       "    </tr>\n",
       "    <tr>\n",
       "      <th>3</th>\n",
       "      <td>2005-01-07 05:35:00</td>\n",
       "      <td>45.720001</td>\n",
       "      <td>31.690001</td>\n",
       "      <td>0</td>\n",
       "    </tr>\n",
       "    <tr>\n",
       "      <th>4</th>\n",
       "      <td>2005-01-07 05:35:00</td>\n",
       "      <td>45.720001</td>\n",
       "      <td>31.690001</td>\n",
       "      <td>0</td>\n",
       "    </tr>\n",
       "    <tr>\n",
       "      <th>...</th>\n",
       "      <td>...</td>\n",
       "      <td>...</td>\n",
       "      <td>...</td>\n",
       "      <td>...</td>\n",
       "    </tr>\n",
       "    <tr>\n",
       "      <th>26352</th>\n",
       "      <td>1992-09-12 02:28:00</td>\n",
       "      <td>42.880001</td>\n",
       "      <td>40.400002</td>\n",
       "      <td>22</td>\n",
       "    </tr>\n",
       "    <tr>\n",
       "      <th>26353</th>\n",
       "      <td>1992-09-12 02:28:00</td>\n",
       "      <td>42.880001</td>\n",
       "      <td>40.400002</td>\n",
       "      <td>22</td>\n",
       "    </tr>\n",
       "    <tr>\n",
       "      <th>26354</th>\n",
       "      <td>1992-09-12 02:28:00</td>\n",
       "      <td>42.880001</td>\n",
       "      <td>40.400002</td>\n",
       "      <td>22</td>\n",
       "    </tr>\n",
       "    <tr>\n",
       "      <th>26355</th>\n",
       "      <td>1992-09-12 02:28:00</td>\n",
       "      <td>42.880001</td>\n",
       "      <td>40.400002</td>\n",
       "      <td>22</td>\n",
       "    </tr>\n",
       "    <tr>\n",
       "      <th>26356</th>\n",
       "      <td>1992-09-12 02:28:00</td>\n",
       "      <td>42.880001</td>\n",
       "      <td>40.400002</td>\n",
       "      <td>22</td>\n",
       "    </tr>\n",
       "  </tbody>\n",
       "</table>\n",
       "<p>26357 rows × 4 columns</p>\n",
       "</div>"
      ],
      "text/plain": [
       "                     time   latitude  longitude Temp\n",
       "row                                                 \n",
       "0     2005-01-07 05:35:00  45.720001  31.690001    0\n",
       "1     2005-01-07 05:35:00  45.720001  31.690001    0\n",
       "2     2005-01-07 05:35:00  45.720001  31.690001    0\n",
       "3     2005-01-07 05:35:00  45.720001  31.690001    0\n",
       "4     2005-01-07 05:35:00  45.720001  31.690001    0\n",
       "...                   ...        ...        ...  ...\n",
       "26352 1992-09-12 02:28:00  42.880001  40.400002   22\n",
       "26353 1992-09-12 02:28:00  42.880001  40.400002   22\n",
       "26354 1992-09-12 02:28:00  42.880001  40.400002   22\n",
       "26355 1992-09-12 02:28:00  42.880001  40.400002   22\n",
       "26356 1992-09-12 02:28:00  42.880001  40.400002   22\n",
       "\n",
       "[26357 rows x 4 columns]"
      ]
     },
     "execution_count": 16,
     "metadata": {},
     "output_type": "execute_result"
    }
   ],
   "source": [
    "df = response.dataset_to_pandas_dataframe(dataset_id)\n",
    "df"
   ]
  },
  {
   "cell_type": "markdown",
   "id": "3ce224ee-ce00-46fc-a402-c710f691160d",
   "metadata": {},
   "source": [
    "### ... or an Xarray dataset"
   ]
  },
  {
   "cell_type": "code",
   "execution_count": 17,
   "id": "afa37447-f7b6-486a-a057-834ab6fa2def",
   "metadata": {},
   "outputs": [
    {
     "data": {
      "text/html": [
       "<div><svg style=\"position: absolute; width: 0; height: 0; overflow: hidden\">\n",
       "<defs>\n",
       "<symbol id=\"icon-database\" viewBox=\"0 0 32 32\">\n",
       "<path d=\"M16 0c-8.837 0-16 2.239-16 5v4c0 2.761 7.163 5 16 5s16-2.239 16-5v-4c0-2.761-7.163-5-16-5z\"></path>\n",
       "<path d=\"M16 17c-8.837 0-16-2.239-16-5v6c0 2.761 7.163 5 16 5s16-2.239 16-5v-6c0 2.761-7.163 5-16 5z\"></path>\n",
       "<path d=\"M16 26c-8.837 0-16-2.239-16-5v6c0 2.761 7.163 5 16 5s16-2.239 16-5v-6c0 2.761-7.163 5-16 5z\"></path>\n",
       "</symbol>\n",
       "<symbol id=\"icon-file-text2\" viewBox=\"0 0 32 32\">\n",
       "<path d=\"M28.681 7.159c-0.694-0.947-1.662-2.053-2.724-3.116s-2.169-2.030-3.116-2.724c-1.612-1.182-2.393-1.319-2.841-1.319h-15.5c-1.378 0-2.5 1.121-2.5 2.5v27c0 1.378 1.122 2.5 2.5 2.5h23c1.378 0 2.5-1.122 2.5-2.5v-19.5c0-0.448-0.137-1.23-1.319-2.841zM24.543 5.457c0.959 0.959 1.712 1.825 2.268 2.543h-4.811v-4.811c0.718 0.556 1.584 1.309 2.543 2.268zM28 29.5c0 0.271-0.229 0.5-0.5 0.5h-23c-0.271 0-0.5-0.229-0.5-0.5v-27c0-0.271 0.229-0.5 0.5-0.5 0 0 15.499-0 15.5 0v7c0 0.552 0.448 1 1 1h7v19.5z\"></path>\n",
       "<path d=\"M23 26h-14c-0.552 0-1-0.448-1-1s0.448-1 1-1h14c0.552 0 1 0.448 1 1s-0.448 1-1 1z\"></path>\n",
       "<path d=\"M23 22h-14c-0.552 0-1-0.448-1-1s0.448-1 1-1h14c0.552 0 1 0.448 1 1s-0.448 1-1 1z\"></path>\n",
       "<path d=\"M23 18h-14c-0.552 0-1-0.448-1-1s0.448-1 1-1h14c0.552 0 1 0.448 1 1s-0.448 1-1 1z\"></path>\n",
       "</symbol>\n",
       "</defs>\n",
       "</svg>\n",
       "<style>/* CSS stylesheet for displaying xarray objects in jupyterlab.\n",
       " *\n",
       " */\n",
       "\n",
       ":root {\n",
       "  --xr-font-color0: var(--jp-content-font-color0, rgba(0, 0, 0, 1));\n",
       "  --xr-font-color2: var(--jp-content-font-color2, rgba(0, 0, 0, 0.54));\n",
       "  --xr-font-color3: var(--jp-content-font-color3, rgba(0, 0, 0, 0.38));\n",
       "  --xr-border-color: var(--jp-border-color2, #e0e0e0);\n",
       "  --xr-disabled-color: var(--jp-layout-color3, #bdbdbd);\n",
       "  --xr-background-color: var(--jp-layout-color0, white);\n",
       "  --xr-background-color-row-even: var(--jp-layout-color1, white);\n",
       "  --xr-background-color-row-odd: var(--jp-layout-color2, #eeeeee);\n",
       "}\n",
       "\n",
       "html[theme=dark],\n",
       "body[data-theme=dark],\n",
       "body.vscode-dark {\n",
       "  --xr-font-color0: rgba(255, 255, 255, 1);\n",
       "  --xr-font-color2: rgba(255, 255, 255, 0.54);\n",
       "  --xr-font-color3: rgba(255, 255, 255, 0.38);\n",
       "  --xr-border-color: #1F1F1F;\n",
       "  --xr-disabled-color: #515151;\n",
       "  --xr-background-color: #111111;\n",
       "  --xr-background-color-row-even: #111111;\n",
       "  --xr-background-color-row-odd: #313131;\n",
       "}\n",
       "\n",
       ".xr-wrap {\n",
       "  display: block !important;\n",
       "  min-width: 300px;\n",
       "  max-width: 700px;\n",
       "}\n",
       "\n",
       ".xr-text-repr-fallback {\n",
       "  /* fallback to plain text repr when CSS is not injected (untrusted notebook) */\n",
       "  display: none;\n",
       "}\n",
       "\n",
       ".xr-header {\n",
       "  padding-top: 6px;\n",
       "  padding-bottom: 6px;\n",
       "  margin-bottom: 4px;\n",
       "  border-bottom: solid 1px var(--xr-border-color);\n",
       "}\n",
       "\n",
       ".xr-header > div,\n",
       ".xr-header > ul {\n",
       "  display: inline;\n",
       "  margin-top: 0;\n",
       "  margin-bottom: 0;\n",
       "}\n",
       "\n",
       ".xr-obj-type,\n",
       ".xr-array-name {\n",
       "  margin-left: 2px;\n",
       "  margin-right: 10px;\n",
       "}\n",
       "\n",
       ".xr-obj-type {\n",
       "  color: var(--xr-font-color2);\n",
       "}\n",
       "\n",
       ".xr-sections {\n",
       "  padding-left: 0 !important;\n",
       "  display: grid;\n",
       "  grid-template-columns: 150px auto auto 1fr 20px 20px;\n",
       "}\n",
       "\n",
       ".xr-section-item {\n",
       "  display: contents;\n",
       "}\n",
       "\n",
       ".xr-section-item input {\n",
       "  display: none;\n",
       "}\n",
       "\n",
       ".xr-section-item input + label {\n",
       "  color: var(--xr-disabled-color);\n",
       "}\n",
       "\n",
       ".xr-section-item input:enabled + label {\n",
       "  cursor: pointer;\n",
       "  color: var(--xr-font-color2);\n",
       "}\n",
       "\n",
       ".xr-section-item input:enabled + label:hover {\n",
       "  color: var(--xr-font-color0);\n",
       "}\n",
       "\n",
       ".xr-section-summary {\n",
       "  grid-column: 1;\n",
       "  color: var(--xr-font-color2);\n",
       "  font-weight: 500;\n",
       "}\n",
       "\n",
       ".xr-section-summary > span {\n",
       "  display: inline-block;\n",
       "  padding-left: 0.5em;\n",
       "}\n",
       "\n",
       ".xr-section-summary-in:disabled + label {\n",
       "  color: var(--xr-font-color2);\n",
       "}\n",
       "\n",
       ".xr-section-summary-in + label:before {\n",
       "  display: inline-block;\n",
       "  content: '►';\n",
       "  font-size: 11px;\n",
       "  width: 15px;\n",
       "  text-align: center;\n",
       "}\n",
       "\n",
       ".xr-section-summary-in:disabled + label:before {\n",
       "  color: var(--xr-disabled-color);\n",
       "}\n",
       "\n",
       ".xr-section-summary-in:checked + label:before {\n",
       "  content: '▼';\n",
       "}\n",
       "\n",
       ".xr-section-summary-in:checked + label > span {\n",
       "  display: none;\n",
       "}\n",
       "\n",
       ".xr-section-summary,\n",
       ".xr-section-inline-details {\n",
       "  padding-top: 4px;\n",
       "  padding-bottom: 4px;\n",
       "}\n",
       "\n",
       ".xr-section-inline-details {\n",
       "  grid-column: 2 / -1;\n",
       "}\n",
       "\n",
       ".xr-section-details {\n",
       "  display: none;\n",
       "  grid-column: 1 / -1;\n",
       "  margin-bottom: 5px;\n",
       "}\n",
       "\n",
       ".xr-section-summary-in:checked ~ .xr-section-details {\n",
       "  display: contents;\n",
       "}\n",
       "\n",
       ".xr-array-wrap {\n",
       "  grid-column: 1 / -1;\n",
       "  display: grid;\n",
       "  grid-template-columns: 20px auto;\n",
       "}\n",
       "\n",
       ".xr-array-wrap > label {\n",
       "  grid-column: 1;\n",
       "  vertical-align: top;\n",
       "}\n",
       "\n",
       ".xr-preview {\n",
       "  color: var(--xr-font-color3);\n",
       "}\n",
       "\n",
       ".xr-array-preview,\n",
       ".xr-array-data {\n",
       "  padding: 0 5px !important;\n",
       "  grid-column: 2;\n",
       "}\n",
       "\n",
       ".xr-array-data,\n",
       ".xr-array-in:checked ~ .xr-array-preview {\n",
       "  display: none;\n",
       "}\n",
       "\n",
       ".xr-array-in:checked ~ .xr-array-data,\n",
       ".xr-array-preview {\n",
       "  display: inline-block;\n",
       "}\n",
       "\n",
       ".xr-dim-list {\n",
       "  display: inline-block !important;\n",
       "  list-style: none;\n",
       "  padding: 0 !important;\n",
       "  margin: 0;\n",
       "}\n",
       "\n",
       ".xr-dim-list li {\n",
       "  display: inline-block;\n",
       "  padding: 0;\n",
       "  margin: 0;\n",
       "}\n",
       "\n",
       ".xr-dim-list:before {\n",
       "  content: '(';\n",
       "}\n",
       "\n",
       ".xr-dim-list:after {\n",
       "  content: ')';\n",
       "}\n",
       "\n",
       ".xr-dim-list li:not(:last-child):after {\n",
       "  content: ',';\n",
       "  padding-right: 5px;\n",
       "}\n",
       "\n",
       ".xr-has-index {\n",
       "  font-weight: bold;\n",
       "}\n",
       "\n",
       ".xr-var-list,\n",
       ".xr-var-item {\n",
       "  display: contents;\n",
       "}\n",
       "\n",
       ".xr-var-item > div,\n",
       ".xr-var-item label,\n",
       ".xr-var-item > .xr-var-name span {\n",
       "  background-color: var(--xr-background-color-row-even);\n",
       "  margin-bottom: 0;\n",
       "}\n",
       "\n",
       ".xr-var-item > .xr-var-name:hover span {\n",
       "  padding-right: 5px;\n",
       "}\n",
       "\n",
       ".xr-var-list > li:nth-child(odd) > div,\n",
       ".xr-var-list > li:nth-child(odd) > label,\n",
       ".xr-var-list > li:nth-child(odd) > .xr-var-name span {\n",
       "  background-color: var(--xr-background-color-row-odd);\n",
       "}\n",
       "\n",
       ".xr-var-name {\n",
       "  grid-column: 1;\n",
       "}\n",
       "\n",
       ".xr-var-dims {\n",
       "  grid-column: 2;\n",
       "}\n",
       "\n",
       ".xr-var-dtype {\n",
       "  grid-column: 3;\n",
       "  text-align: right;\n",
       "  color: var(--xr-font-color2);\n",
       "}\n",
       "\n",
       ".xr-var-preview {\n",
       "  grid-column: 4;\n",
       "}\n",
       "\n",
       ".xr-var-name,\n",
       ".xr-var-dims,\n",
       ".xr-var-dtype,\n",
       ".xr-preview,\n",
       ".xr-attrs dt {\n",
       "  white-space: nowrap;\n",
       "  overflow: hidden;\n",
       "  text-overflow: ellipsis;\n",
       "  padding-right: 10px;\n",
       "}\n",
       "\n",
       ".xr-var-name:hover,\n",
       ".xr-var-dims:hover,\n",
       ".xr-var-dtype:hover,\n",
       ".xr-attrs dt:hover {\n",
       "  overflow: visible;\n",
       "  width: auto;\n",
       "  z-index: 1;\n",
       "}\n",
       "\n",
       ".xr-var-attrs,\n",
       ".xr-var-data {\n",
       "  display: none;\n",
       "  background-color: var(--xr-background-color) !important;\n",
       "  padding-bottom: 5px !important;\n",
       "}\n",
       "\n",
       ".xr-var-attrs-in:checked ~ .xr-var-attrs,\n",
       ".xr-var-data-in:checked ~ .xr-var-data {\n",
       "  display: block;\n",
       "}\n",
       "\n",
       ".xr-var-data > table {\n",
       "  float: right;\n",
       "}\n",
       "\n",
       ".xr-var-name span,\n",
       ".xr-var-data,\n",
       ".xr-attrs {\n",
       "  padding-left: 25px !important;\n",
       "}\n",
       "\n",
       ".xr-attrs,\n",
       ".xr-var-attrs,\n",
       ".xr-var-data {\n",
       "  grid-column: 1 / -1;\n",
       "}\n",
       "\n",
       "dl.xr-attrs {\n",
       "  padding: 0;\n",
       "  margin: 0;\n",
       "  display: grid;\n",
       "  grid-template-columns: 125px auto;\n",
       "}\n",
       "\n",
       ".xr-attrs dt,\n",
       ".xr-attrs dd {\n",
       "  padding: 0;\n",
       "  margin: 0;\n",
       "  float: left;\n",
       "  padding-right: 10px;\n",
       "  width: auto;\n",
       "}\n",
       "\n",
       ".xr-attrs dt {\n",
       "  font-weight: normal;\n",
       "  grid-column: 1;\n",
       "}\n",
       "\n",
       ".xr-attrs dt:hover span {\n",
       "  display: inline-block;\n",
       "  background: var(--xr-background-color);\n",
       "  padding-right: 10px;\n",
       "}\n",
       "\n",
       ".xr-attrs dd {\n",
       "  grid-column: 2;\n",
       "  white-space: pre-wrap;\n",
       "  word-break: break-all;\n",
       "}\n",
       "\n",
       ".xr-icon-database,\n",
       ".xr-icon-file-text2 {\n",
       "  display: inline-block;\n",
       "  vertical-align: middle;\n",
       "  width: 1em;\n",
       "  height: 1.5em !important;\n",
       "  stroke-width: 0;\n",
       "  stroke: currentColor;\n",
       "  fill: currentColor;\n",
       "}\n",
       "</style><pre class='xr-text-repr-fallback'>&lt;xarray.Dataset&gt;\n",
       "Dimensions:    (row: 26357)\n",
       "Dimensions without coordinates: row\n",
       "Data variables:\n",
       "    time       (row) datetime64[ns] 2005-01-07T05:35:00 ... 1992-09-12T02:28:00\n",
       "    latitude   (row) float32 45.72 45.72 45.72 45.72 ... 42.88 42.88 42.88 42.88\n",
       "    longitude  (row) float32 31.69 31.69 31.69 31.69 ... 40.4 40.4 40.4 40.4\n",
       "    Temp       (row) object &#x27;0&#x27; &#x27;0&#x27; &#x27;0&#x27; &#x27;0&#x27; &#x27;0&#x27; &#x27;0&#x27; ... &#x27;22&#x27; &#x27;22&#x27; &#x27;22&#x27; &#x27;22&#x27; &#x27;22&#x27;\n",
       "Attributes: (12/76)\n",
       "    AccConstrDescription:      This license lets others distribute, remix, tw...\n",
       "    AccConstrDisplay:          This dataset is licensed under a Creative Comm...\n",
       "    AccConstrEN:               Attribution (CC BY)\n",
       "    AccessConstraint:          Attribution (CC BY)\n",
       "    AccessConstraints:         None\n",
       "    Acronym:                   None\n",
       "    ...                        ...\n",
       "    VersionDay:                3\n",
       "    VersionMonth:              11\n",
       "    VersionName:               1\n",
       "    VersionYear:               2010\n",
       "    VlizCoreFlag:              1\n",
       "    Westernmost_Easting:       29.7</pre><div class='xr-wrap' style='display:none'><div class='xr-header'><div class='xr-obj-type'>xarray.Dataset</div></div><ul class='xr-sections'><li class='xr-section-item'><input id='section-774a6c8b-f989-4e65-a1e9-e4885c237909' class='xr-section-summary-in' type='checkbox' disabled ><label for='section-774a6c8b-f989-4e65-a1e9-e4885c237909' class='xr-section-summary'  title='Expand/collapse section'>Dimensions:</label><div class='xr-section-inline-details'><ul class='xr-dim-list'><li><span>row</span>: 26357</li></ul></div><div class='xr-section-details'></div></li><li class='xr-section-item'><input id='section-f976dfe3-17cd-4dbf-99c5-c6d8c33c1fb4' class='xr-section-summary-in' type='checkbox' disabled ><label for='section-f976dfe3-17cd-4dbf-99c5-c6d8c33c1fb4' class='xr-section-summary'  title='Expand/collapse section'>Coordinates: <span>(0)</span></label><div class='xr-section-inline-details'></div><div class='xr-section-details'><ul class='xr-var-list'></ul></div></li><li class='xr-section-item'><input id='section-c596ece4-f3cb-4074-9c66-2cbbbf976578' class='xr-section-summary-in' type='checkbox'  checked><label for='section-c596ece4-f3cb-4074-9c66-2cbbbf976578' class='xr-section-summary' >Data variables: <span>(4)</span></label><div class='xr-section-inline-details'></div><div class='xr-section-details'><ul class='xr-var-list'><li class='xr-var-item'><div class='xr-var-name'><span>time</span></div><div class='xr-var-dims'>(row)</div><div class='xr-var-dtype'>datetime64[ns]</div><div class='xr-var-preview xr-preview'>...</div><input id='attrs-0a5f69b4-c2da-4850-a72f-a04be1fbe4cc' class='xr-var-attrs-in' type='checkbox' ><label for='attrs-0a5f69b4-c2da-4850-a72f-a04be1fbe4cc' title='Show/Hide attributes'><svg class='icon xr-icon-file-text2'><use xlink:href='#icon-file-text2'></use></svg></label><input id='data-9a3bebed-1395-4ebe-aecd-4007591e37e7' class='xr-var-data-in' type='checkbox'><label for='data-9a3bebed-1395-4ebe-aecd-4007591e37e7' title='Show/Hide data repr'><svg class='icon xr-icon-database'><use xlink:href='#icon-database'></use></svg></label><div class='xr-var-attrs'><dl class='xr-attrs'><dt><span>_CoordinateAxisType :</span></dt><dd>Time</dd><dt><span>actual_range :</span></dt><dd>[6.1745190e+08 1.1061792e+09]</dd><dt><span>axis :</span></dt><dd>T</dd><dt><span>ioos_category :</span></dt><dd>Time</dd><dt><span>long_name :</span></dt><dd>Time</dd><dt><span>standard_name :</span></dt><dd>time</dd><dt><span>time_origin :</span></dt><dd>01-JAN-1970 00:00:00</dd><dt><span>time_precision :</span></dt><dd>1970-01-01T00:00:00Z</dd><dt><span>units_uri :</span></dt><dd>None</dd></dl></div><div class='xr-var-data'><pre>array([&#x27;2005-01-07T05:35:00.000000000&#x27;, &#x27;2005-01-07T05:35:00.000000000&#x27;,\n",
       "       &#x27;2005-01-07T05:35:00.000000000&#x27;, ..., &#x27;1992-09-12T02:28:00.000000000&#x27;,\n",
       "       &#x27;1992-09-12T02:28:00.000000000&#x27;, &#x27;1992-09-12T02:28:00.000000000&#x27;],\n",
       "      dtype=&#x27;datetime64[ns]&#x27;)</pre></div></li><li class='xr-var-item'><div class='xr-var-name'><span>latitude</span></div><div class='xr-var-dims'>(row)</div><div class='xr-var-dtype'>float32</div><div class='xr-var-preview xr-preview'>...</div><input id='attrs-ffaa7c2d-b73c-49fe-88f8-d23f3feaacae' class='xr-var-attrs-in' type='checkbox' ><label for='attrs-ffaa7c2d-b73c-49fe-88f8-d23f3feaacae' title='Show/Hide attributes'><svg class='icon xr-icon-file-text2'><use xlink:href='#icon-file-text2'></use></svg></label><input id='data-ecd4ed8a-e9c7-428c-9ae9-79efb8c278bd' class='xr-var-data-in' type='checkbox'><label for='data-ecd4ed8a-e9c7-428c-9ae9-79efb8c278bd' title='Show/Hide data repr'><svg class='icon xr-icon-database'><use xlink:href='#icon-database'></use></svg></label><div class='xr-var-attrs'><dl class='xr-attrs'><dt><span>_CoordinateAxisType :</span></dt><dd>Lat</dd><dt><span>actual_range :</span></dt><dd>[42.   46.72]</dd><dt><span>axis :</span></dt><dd>Y</dd><dt><span>ioos_category :</span></dt><dd>Location</dd><dt><span>long_name :</span></dt><dd>Latitude</dd><dt><span>standard_name :</span></dt><dd>latitude</dd><dt><span>units :</span></dt><dd>degrees_north</dd><dt><span>units_uri :</span></dt><dd>http://rs.tdwg.org/dwc/terms/decimalLatitude</dd></dl></div><div class='xr-var-data'><pre>array([45.72, 45.72, 45.72, ..., 42.88, 42.88, 42.88], dtype=float32)</pre></div></li><li class='xr-var-item'><div class='xr-var-name'><span>longitude</span></div><div class='xr-var-dims'>(row)</div><div class='xr-var-dtype'>float32</div><div class='xr-var-preview xr-preview'>...</div><input id='attrs-9d18bf8c-4330-428f-8497-16469fa95010' class='xr-var-attrs-in' type='checkbox' ><label for='attrs-9d18bf8c-4330-428f-8497-16469fa95010' title='Show/Hide attributes'><svg class='icon xr-icon-file-text2'><use xlink:href='#icon-file-text2'></use></svg></label><input id='data-4e4cbdf2-5d69-48e1-9c55-bf375fd804d4' class='xr-var-data-in' type='checkbox'><label for='data-4e4cbdf2-5d69-48e1-9c55-bf375fd804d4' title='Show/Hide data repr'><svg class='icon xr-icon-database'><use xlink:href='#icon-database'></use></svg></label><div class='xr-var-attrs'><dl class='xr-attrs'><dt><span>_CoordinateAxisType :</span></dt><dd>Lon</dd><dt><span>actual_range :</span></dt><dd>[29.7 41. ]</dd><dt><span>axis :</span></dt><dd>X</dd><dt><span>ioos_category :</span></dt><dd>Location</dd><dt><span>long_name :</span></dt><dd>Longitude</dd><dt><span>standard_name :</span></dt><dd>longitude</dd><dt><span>units :</span></dt><dd>degrees_east</dd><dt><span>units_uri :</span></dt><dd>http://rs.tdwg.org/dwc/terms/decimalLongitude</dd></dl></div><div class='xr-var-data'><pre>array([31.69, 31.69, 31.69, ..., 40.4 , 40.4 , 40.4 ], dtype=float32)</pre></div></li><li class='xr-var-item'><div class='xr-var-name'><span>Temp</span></div><div class='xr-var-dims'>(row)</div><div class='xr-var-dtype'>object</div><div class='xr-var-preview xr-preview'>...</div><input id='attrs-cfc7bf42-a315-4dc7-bdc9-eb34ca3efc47' class='xr-var-attrs-in' type='checkbox' ><label for='attrs-cfc7bf42-a315-4dc7-bdc9-eb34ca3efc47' title='Show/Hide attributes'><svg class='icon xr-icon-file-text2'><use xlink:href='#icon-file-text2'></use></svg></label><input id='data-b3f94519-4575-484b-a7e2-f26c22146c25' class='xr-var-data-in' type='checkbox'><label for='data-b3f94519-4575-484b-a7e2-f26c22146c25' title='Show/Hide data repr'><svg class='icon xr-icon-database'><use xlink:href='#icon-database'></use></svg></label><div class='xr-var-attrs'><dl class='xr-attrs'><dt><span>altLabel :</span></dt><dd>[&#x27;Temp&#x27;, {&#x27;@language&#x27;: &#x27;en&#x27;, &#x27;@value&#x27;: &#x27;Temp&#x27;}]</dd><dt><span>long_name :</span></dt><dd>SDN:P01::TEMPPR01</dd><dt><span>sdn_parameter_urn :</span></dt><dd>SDN:P01::TEMPPR01</dd><dt><span>units :</span></dt><dd>None</dd><dt><span>units_uri :</span></dt><dd>None</dd><dt><span>uri :</span></dt><dd>https://vocab.nerc.ac.uk/collection/P01/current/TEMPPR01/</dd></dl></div><div class='xr-var-data'><pre>array([&#x27;0&#x27;, &#x27;0&#x27;, &#x27;0&#x27;, ..., &#x27;22&#x27;, &#x27;22&#x27;, &#x27;22&#x27;], dtype=object)</pre></div></li></ul></div></li><li class='xr-section-item'><input id='section-5e0fc9c9-72bf-4ba7-8d6f-3b3333c98cdc' class='xr-section-summary-in' type='checkbox'  ><label for='section-5e0fc9c9-72bf-4ba7-8d6f-3b3333c98cdc' class='xr-section-summary' >Attributes: <span>(76)</span></label><div class='xr-section-inline-details'></div><div class='xr-section-details'><dl class='xr-attrs'><dt><span>AccConstrDescription :</span></dt><dd>This license lets others distribute, remix, tweak, and build upon your work, even commercially, as long as they credit you for the original creation. This is the most accommodating of licenses offered. Recommended for maximum dissemination and use of licensed materials.</dd><dt><span>AccConstrDisplay :</span></dt><dd>This dataset is licensed under a Creative Commons Attribution 4.0 International License.</dd><dt><span>AccConstrEN :</span></dt><dd>Attribution (CC BY)</dd><dt><span>AccessConstraint :</span></dt><dd>Attribution (CC BY)</dd><dt><span>AccessConstraints :</span></dt><dd>None</dd><dt><span>Acronym :</span></dt><dd>None</dd><dt><span>BrackishFlag :</span></dt><dd>0</dd><dt><span>CDate :</span></dt><dd>2010-11-03</dd><dt><span>cdm_data_type :</span></dt><dd>Other</dd><dt><span>CheckedFlag :</span></dt><dd>0</dd><dt><span>Citation :</span></dt><dd>Pavel Lyumkis. Zooplankton in the Ukrainia Black Sea shelf (1989-2005). Ukrainian Scientific Centre of Ecology of the Sea.</dd><dt><span>Comments :</span></dt><dd>None</dd><dt><span>ContactEmail :</span></dt><dd>None</dd><dt><span>Conventions :</span></dt><dd>COARDS, CF-1.6, ACDD-1.3</dd><dt><span>creator_name :</span></dt><dd>Lyumkis</dd><dt><span>CurrencyDate :</span></dt><dd>None</dd><dt><span>DasID :</span></dt><dd>2695</dd><dt><span>DasOrigin :</span></dt><dd>Research</dd><dt><span>DasType :</span></dt><dd>Data</dd><dt><span>DasTypeID :</span></dt><dd>1</dd><dt><span>DescrCompFlag :</span></dt><dd>0</dd><dt><span>DescrTransFlag :</span></dt><dd>0</dd><dt><span>Easternmost_Easting :</span></dt><dd>41.0</dd><dt><span>EngAbstract :</span></dt><dd>Species composition, abundance and biomasss of zooplankton at selected layers from the seabed to the surface. Approximately 100 species included in the database.</dd><dt><span>EngDescr :</span></dt><dd>Dataset contains zooplankton data obtained during ecological monitoring in the Black Sea, Ukrainian part 1996-2005.\n",
       "\n",
       "For data 1992-1993: Sampling was done by Juday net N49 mesh size = 0,168 mm. Samples were taken by standard depths from 200m (or bottom) to surface – 5 layers in deep-water regions. Also additional samples were taken every 25 m in limits 200-25m. In limits 25m – surface number of samples were taken according thermohaline water structure. Samples were sorted by macro and mezo plankton. Mezoplankton was analyzed under binocular directly on ship board. Abundance of each species was calculated according standard methods, for most abundant species adult and copepodit stages were calculated. Structure of both combs (Mnemiopsis and Pleurobrachia) population was identified by 3-9 size classes with body length measurements.\n",
       "\n",
       "1996 - 2006: Sampling instrument - Jedy&#x27;s net N 49, mesh size = 0,168 mm; fixation: formalin; sampling surface area - arranged as per sampling depths from the surface to the sea bed; depth of sampling - on standard levels, m.\n",
       "\n",
       "References:\n",
       "\n",
       "Research of the ecosystem of the Black Sea, collected scientific essays under the editorship of V. Medinets, Vol. 1, Odessa, &quot;IREN-POLIGRAF&quot;, 1994, p. 4-16 (in Russian)\n",
       "Environmental Series, 7. Copyright by United Nations Development Programme, New York. Anon. 2002 Environmental State of the Black Sea. Report 1996-2000. Astroprint, Odessa. (in Ukrainian)</dd><dt><span>FreshFlag :</span></dt><dd>0</dd><dt><span>geospatial_lat_max :</span></dt><dd>46.72</dd><dt><span>geospatial_lat_min :</span></dt><dd>42.0</dd><dt><span>geospatial_lat_units :</span></dt><dd>degrees_north</dd><dt><span>geospatial_lon_max :</span></dt><dd>41.0</dd><dt><span>geospatial_lon_min :</span></dt><dd>29.7</dd><dt><span>geospatial_lon_units :</span></dt><dd>degrees_east</dd><dt><span>history :</span></dt><dd>2022-10-10T06:34:26Z (local files)\n",
       "2022-10-10T06:34:26Z http://erddap.eurobis.org/erddap/tabledap/lyumkis.nc?time%2Clatitude%2Clongitude%2CTemp&amp;time%3E=1900-01-01&amp;time%3C=2022-01-02&amp;latitude%3E=0.0&amp;latitude%3C=90.0&amp;longitude%3E=0.0&amp;longitude%3C=90.0</dd><dt><span>id :</span></dt><dd>lyumkis</dd><dt><span>infoUrl :</span></dt><dd>None</dd><dt><span>InputNotes :</span></dt><dd>None</dd><dt><span>institution :</span></dt><dd>UkrSCES</dd><dt><span>keywords :</span></dt><dd>aphia_id, BasisOfRecord, DayCollected, https://vocab.nerc.ac.uk/collection/P01/current/SDBIOL01/, https://vocab.nerc.ac.uk/collection/P01/current/TEMPPR01/, InstitutionCode, latitude, lifestage, longitude, MaximumDepth, MinimumDepth, MonthCollected, occurrenceID, ScientificName, sex, time, TimeOfDay, YearCollected</dd><dt><span>License :</span></dt><dd>https://creativecommons.org/licenses/by/4.0/</dd><dt><span>license :</span></dt><dd>The data may be used and redistributed for free but is not intended\n",
       "for legal use, since it may contain inaccuracies. Neither the data\n",
       "Contributor, ERD, NOAA, nor the United States Government, nor any\n",
       "of their employees or contractors, makes any warranty, express or\n",
       "implied, including warranties of merchantability and fitness for a\n",
       "particular purpose, or assumes any legal liability for the accuracy,\n",
       "completeness, or usefulness, of this information.</dd><dt><span>Lineage :</span></dt><dd>None</dd><dt><span>MarineFlag :</span></dt><dd>1</dd><dt><span>Northernmost_Northing :</span></dt><dd>46.72</dd><dt><span>OrigAbstract :</span></dt><dd>None</dd><dt><span>OrigDescr :</span></dt><dd>None</dd><dt><span>OrigDescrLang :</span></dt><dd>English</dd><dt><span>OrigDescrLangNL :</span></dt><dd>Engels</dd><dt><span>OrigLangCode :</span></dt><dd>en</dd><dt><span>OrigTitle :</span></dt><dd>None</dd><dt><span>OrigTitleLang :</span></dt><dd>English</dd><dt><span>OrigTitleLangCode :</span></dt><dd>en</dd><dt><span>OrigTitleLangNL :</span></dt><dd>Engels</dd><dt><span>Progress :</span></dt><dd>Completed</dd><dt><span>PublicFlag :</span></dt><dd>1</dd><dt><span>ReleaseDate :</span></dt><dd>None</dd><dt><span>ReleaseDate0 :</span></dt><dd>None</dd><dt><span>RevisionDate :</span></dt><dd>None</dd><dt><span>SizeReference :</span></dt><dd>26 357 distribution records</dd><dt><span>sourceUrl :</span></dt><dd>(local files)</dd><dt><span>Southernmost_Northing :</span></dt><dd>42.0</dd><dt><span>standard_name_vocabulary :</span></dt><dd>CF Standard Name Table v70</dd><dt><span>StandardTitle :</span></dt><dd>Zooplankton in the Ukrainia Black Sea shelf (1989-2005)</dd><dt><span>subsetVariables :</span></dt><dd>ScientificName,BasisOfRecord,YearCollected,MonthCollected,DayCollected,sex,lifestage,aphia_id</dd><dt><span>summary :</span></dt><dd>Species composition, abundance and biomasss of zooplankton at selected layers from the seabed to the surface. Approximately 100 species included in the database.</dd><dt><span>TerrestrialFlag :</span></dt><dd>0</dd><dt><span>time_coverage_end :</span></dt><dd>2005-01-20T00:00:00Z</dd><dt><span>time_coverage_start :</span></dt><dd>1989-07-26T10:25:00Z</dd><dt><span>title :</span></dt><dd>Zooplankton in the Ukrainia Black Sea shelf (1989-2005)</dd><dt><span>UDate :</span></dt><dd>2022-08-11</dd><dt><span>VersionDate :</span></dt><dd>None</dd><dt><span>VersionDay :</span></dt><dd>3</dd><dt><span>VersionMonth :</span></dt><dd>11</dd><dt><span>VersionName :</span></dt><dd>1</dd><dt><span>VersionYear :</span></dt><dd>2010</dd><dt><span>VlizCoreFlag :</span></dt><dd>1</dd><dt><span>Westernmost_Easting :</span></dt><dd>29.7</dd></dl></div></li></ul></div></div>"
      ],
      "text/plain": [
       "<xarray.Dataset>\n",
       "Dimensions:    (row: 26357)\n",
       "Dimensions without coordinates: row\n",
       "Data variables:\n",
       "    time       (row) datetime64[ns] ...\n",
       "    latitude   (row) float32 ...\n",
       "    longitude  (row) float32 ...\n",
       "    Temp       (row) object ...\n",
       "Attributes: (12/76)\n",
       "    AccConstrDescription:      This license lets others distribute, remix, tw...\n",
       "    AccConstrDisplay:          This dataset is licensed under a Creative Comm...\n",
       "    AccConstrEN:               Attribution (CC BY)\n",
       "    AccessConstraint:          Attribution (CC BY)\n",
       "    AccessConstraints:         None\n",
       "    Acronym:                   None\n",
       "    ...                        ...\n",
       "    VersionDay:                3\n",
       "    VersionMonth:              11\n",
       "    VersionName:               1\n",
       "    VersionYear:               2010\n",
       "    VlizCoreFlag:              1\n",
       "    Westernmost_Easting:       29.7"
      ]
     },
     "execution_count": 17,
     "metadata": {},
     "output_type": "execute_result"
    }
   ],
   "source": [
    "ds = response.dataset_to_xarray(dataset_id)\n",
    "ds"
   ]
  },
  {
   "cell_type": "markdown",
   "id": "a0c7e9e9-5e91-42ed-b578-91b95cf895ff",
   "metadata": {},
   "source": [
    "### Only retrieve a specific EOV :"
   ]
  },
  {
   "cell_type": "code",
   "execution_count": 18,
   "id": "c8f8988e-0949-4c05-849f-2441e43388a5",
   "metadata": {},
   "outputs": [],
   "source": [
    "# ds = response.dataset_to_pandas_dataframe(dataset_id, \"EV_OXY\")\n",
    "# # ds"
   ]
  },
  {
   "cell_type": "markdown",
   "id": "91abe555-63a5-42cd-9f92-67791af69964",
   "metadata": {},
   "source": [
    "### Download a dataset as a NetCDF file"
   ]
  },
  {
   "cell_type": "code",
   "execution_count": 19,
   "id": "5c14368e-d9bc-4a29-84dc-0d8f221b83f8",
   "metadata": {},
   "outputs": [
    {
     "name": "stderr",
     "output_type": "stream",
     "text": [
      "DEBUG:urllib3.connectionpool:Starting new HTTPS connection (1): erddap.eurobis.org:443\n",
      "DEBUG:urllib3.connectionpool:https://erddap.eurobis.org:443 \"GET //erddap/tabledap/lyumkis.nc?time%2Clatitude%2Clongitude%2CTemp&time%3E=1900-01-01&time%3C=2022-01-02&latitude%3E=0.0&latitude%3C=90.0&longitude%3E=0.0&longitude%3C=90.0 HTTP/1.1\" 200 None\n"
     ]
    },
    {
     "data": {
      "text/plain": [
       "True"
      ]
     },
     "execution_count": 19,
     "metadata": {},
     "output_type": "execute_result"
    }
   ],
   "source": [
    "response.dataset_to_file_download(dataset_id, \"nc\")"
   ]
  }
 ],
 "metadata": {
  "kernelspec": {
   "display_name": "Python 3 (ipykernel)",
   "language": "python",
   "name": "python3"
  },
  "language_info": {
   "codemirror_mode": {
    "name": "ipython",
    "version": 3
   },
   "file_extension": ".py",
   "mimetype": "text/x-python",
   "name": "python",
   "nbconvert_exporter": "python",
   "pygments_lexer": "ipython3",
   "version": "3.10.6"
  }
 },
 "nbformat": 4,
 "nbformat_minor": 5
}
